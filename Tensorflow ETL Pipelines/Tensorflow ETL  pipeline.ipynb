{
 "cells": [
  {
   "cell_type": "code",
   "execution_count": 1,
   "id": "8df519c1",
   "metadata": {},
   "outputs": [],
   "source": [
    "import tensorflow as tf"
   ]
  },
  {
   "cell_type": "markdown",
   "id": "ef482ab5",
   "metadata": {},
   "source": [
    "### Create tf dataset from a list"
   ]
  },
  {
   "cell_type": "code",
   "execution_count": 2,
   "id": "03f20e62",
   "metadata": {},
   "outputs": [],
   "source": [
    "daily_sales_numbers = [21, 22, -108, 31, -1, 32, 34, 31]"
   ]
  },
  {
   "cell_type": "code",
   "execution_count": 3,
   "id": "eae875b6",
   "metadata": {},
   "outputs": [],
   "source": [
    "tf_dataset = tf.data.Dataset.from_tensor_slices(daily_sales_numbers)"
   ]
  },
  {
   "cell_type": "markdown",
   "id": "5c6b35ea",
   "metadata": {},
   "source": [
    "### Iterate through tf dataset"
   ]
  },
  {
   "cell_type": "code",
   "execution_count": 4,
   "id": "a8e8f8a0",
   "metadata": {},
   "outputs": [
    {
     "name": "stdout",
     "output_type": "stream",
     "text": [
      "21\n",
      "22\n",
      "-108\n",
      "31\n",
      "-1\n",
      "32\n",
      "34\n",
      "31\n"
     ]
    }
   ],
   "source": [
    "for sales in tf_dataset:\n",
    "    print(sales.numpy())"
   ]
  },
  {
   "cell_type": "markdown",
   "id": "3e0f8a7c",
   "metadata": {},
   "source": [
    "### Iterate through elements as numpy elements"
   ]
  },
  {
   "cell_type": "code",
   "execution_count": 5,
   "id": "cc31c9be",
   "metadata": {},
   "outputs": [
    {
     "name": "stdout",
     "output_type": "stream",
     "text": [
      "21\n",
      "22\n",
      "-108\n",
      "31\n",
      "-1\n",
      "32\n",
      "34\n",
      "31\n"
     ]
    }
   ],
   "source": [
    "for sales in tf_dataset.as_numpy_iterator():\n",
    "    print(sales)"
   ]
  },
  {
   "cell_type": "code",
   "execution_count": 6,
   "id": "d8a95979",
   "metadata": {},
   "outputs": [
    {
     "name": "stdout",
     "output_type": "stream",
     "text": [
      "21\n",
      "22\n",
      "-108\n",
      "31\n"
     ]
    }
   ],
   "source": [
    "for sales in tf_dataset.take(4):\n",
    "    print(sales.numpy())"
   ]
  },
  {
   "cell_type": "markdown",
   "id": "07934cc9",
   "metadata": {},
   "source": [
    "### Sales numbers cant be negative we need to filter them"
   ]
  },
  {
   "cell_type": "code",
   "execution_count": 7,
   "id": "8a05070d",
   "metadata": {},
   "outputs": [
    {
     "name": "stdout",
     "output_type": "stream",
     "text": [
      "21\n",
      "22\n",
      "31\n",
      "32\n",
      "34\n",
      "31\n"
     ]
    }
   ],
   "source": [
    "tf_dataset = tf_dataset.filter(lambda x: x>0)\n",
    "for sales in tf_dataset.as_numpy_iterator():\n",
    "    print(sales)"
   ]
  },
  {
   "cell_type": "markdown",
   "id": "f77b0724",
   "metadata": {},
   "source": [
    "### Convert sales numbers from USA dollars ($) to Indian Rupees (INR) Assuming 1->72 conversation rate"
   ]
  },
  {
   "cell_type": "code",
   "execution_count": 8,
   "id": "c9173637",
   "metadata": {},
   "outputs": [
    {
     "name": "stdout",
     "output_type": "stream",
     "text": [
      "1512\n",
      "1584\n",
      "2232\n",
      "2304\n",
      "2448\n",
      "2232\n"
     ]
    }
   ],
   "source": [
    "# We can perform arithmetic operations also\n",
    "tf_dataset = tf_dataset.map(lambda x: x*72 )\n",
    "for sales in tf_dataset.as_numpy_iterator():\n",
    "    print(sales)"
   ]
  },
  {
   "cell_type": "markdown",
   "id": "d1586414",
   "metadata": {},
   "source": [
    "### Shuffe\n",
    "**For refrence** :- https://stackoverflow.com/questions/53514495/what-does-batch-repeat-and-shuffle-do-with-tensorflow-dataset"
   ]
  },
  {
   "cell_type": "code",
   "execution_count": 9,
   "id": "2afe2ab8",
   "metadata": {},
   "outputs": [
    {
     "name": "stdout",
     "output_type": "stream",
     "text": [
      "1512\n",
      "2232\n",
      "2448\n",
      "2232\n",
      "1584\n",
      "2304\n"
     ]
    }
   ],
   "source": [
    "# Rearranging the elements\n",
    "tf_dataset = tf_dataset.shuffle(3)\n",
    "for sales in tf_dataset.as_numpy_iterator():\n",
    "    print(sales)"
   ]
  },
  {
   "cell_type": "markdown",
   "id": "46bd3574",
   "metadata": {},
   "source": [
    "### Batching"
   ]
  },
  {
   "cell_type": "code",
   "execution_count": 10,
   "id": "993a4742",
   "metadata": {},
   "outputs": [
    {
     "name": "stdout",
     "output_type": "stream",
     "text": [
      "[1512 2304]\n",
      "[1584 2448]\n",
      "[2232 2232]\n"
     ]
    }
   ],
   "source": [
    "for sales_batch in tf_dataset.batch(2):\n",
    "    print(sales_batch.numpy())"
   ]
  },
  {
   "cell_type": "markdown",
   "id": "17ae4697",
   "metadata": {},
   "source": [
    "### Perform all of the above operations in one shot"
   ]
  },
  {
   "cell_type": "code",
   "execution_count": 11,
   "id": "9120facf",
   "metadata": {},
   "outputs": [
    {
     "name": "stdout",
     "output_type": "stream",
     "text": [
      "[1584 2232]\n",
      "[1512 2304]\n",
      "[2448 2232]\n"
     ]
    }
   ],
   "source": [
    "tf_dataset = tf.data.Dataset.from_tensor_slices(daily_sales_numbers)\n",
    "\n",
    "tf_dataset = tf_dataset.filter(lambda x: x>0).map(lambda y: y*72).shuffle(2).batch(2)\n",
    "for sales in tf_dataset.as_numpy_iterator():\n",
    "    print(sales)"
   ]
  },
  {
   "cell_type": "markdown",
   "id": "af754de9",
   "metadata": {},
   "source": [
    "### Images"
   ]
  },
  {
   "cell_type": "code",
   "execution_count": 13,
   "id": "da8c5c0d",
   "metadata": {},
   "outputs": [],
   "source": [
    "images_ds = tf.data.Dataset.list_files('images/*/*', shuffle=False)"
   ]
  },
  {
   "cell_type": "code",
   "execution_count": 14,
   "id": "6f2105f5",
   "metadata": {},
   "outputs": [
    {
     "data": {
      "text/plain": [
       "2000"
      ]
     },
     "execution_count": 14,
     "metadata": {},
     "output_type": "execute_result"
    }
   ],
   "source": [
    "image_count = len(images_ds)\n",
    "image_count"
   ]
  },
  {
   "cell_type": "code",
   "execution_count": 18,
   "id": "141fec4a",
   "metadata": {},
   "outputs": [
    {
     "data": {
      "text/plain": [
       "tensorflow.python.data.ops.dataset_ops.ShuffleDataset"
      ]
     },
     "execution_count": 18,
     "metadata": {},
     "output_type": "execute_result"
    }
   ],
   "source": [
    "type(images_ds)"
   ]
  },
  {
   "cell_type": "code",
   "execution_count": 19,
   "id": "d7999d11",
   "metadata": {},
   "outputs": [
    {
     "name": "stdout",
     "output_type": "stream",
     "text": [
      "b'images\\\\cats\\\\cat.213.jpg'\n",
      "b'images\\\\cats\\\\cat.184.jpg'\n",
      "b'images\\\\cats\\\\cat.154.jpg'\n"
     ]
    }
   ],
   "source": [
    "for file in images_ds.take(3):\n",
    "    print(file.numpy())"
   ]
  },
  {
   "cell_type": "code",
   "execution_count": 20,
   "id": "3140b1bc",
   "metadata": {},
   "outputs": [
    {
     "name": "stdout",
     "output_type": "stream",
     "text": [
      "b'images\\\\cats\\\\cat.246.jpg'\n",
      "b'images\\\\cats\\\\cat.269.jpg'\n",
      "b'images\\\\cats\\\\cat.22.jpg'\n"
     ]
    }
   ],
   "source": [
    "images_ds = images_ds.shuffle(200)\n",
    "for file in images_ds.take(3):\n",
    "    print(file.numpy())"
   ]
  },
  {
   "cell_type": "markdown",
   "id": "86e37bf0",
   "metadata": {},
   "source": [
    "### Splitting the dataset into train test "
   ]
  },
  {
   "cell_type": "code",
   "execution_count": 21,
   "id": "7c6dd086",
   "metadata": {},
   "outputs": [],
   "source": [
    "class_names = [\"cat\",\"dog\"]\n",
    "train_size = int(image_count*0.8)\n",
    "train_ds = images_ds.take(train_size)\n",
    "test_ds = images_ds.skip(train_size)"
   ]
  },
  {
   "cell_type": "code",
   "execution_count": 22,
   "id": "befdf91a",
   "metadata": {},
   "outputs": [
    {
     "data": {
      "text/plain": [
       "1600"
      ]
     },
     "execution_count": 22,
     "metadata": {},
     "output_type": "execute_result"
    }
   ],
   "source": [
    "len(train_ds)"
   ]
  },
  {
   "cell_type": "code",
   "execution_count": 23,
   "id": "6101c642",
   "metadata": {},
   "outputs": [
    {
     "data": {
      "text/plain": [
       "400"
      ]
     },
     "execution_count": 23,
     "metadata": {},
     "output_type": "execute_result"
    }
   ],
   "source": [
    "len(test_ds)"
   ]
  },
  {
   "cell_type": "code",
   "execution_count": 24,
   "id": "fc88721d",
   "metadata": {},
   "outputs": [],
   "source": [
    "def get_label(file_path):\n",
    "    import os\n",
    "    parts = tf.strings.split(file_path, os.path.sep)\n",
    "    return parts[-2]"
   ]
  },
  {
   "cell_type": "code",
   "execution_count": 28,
   "id": "d67dbb73",
   "metadata": {},
   "outputs": [
    {
     "data": {
      "text/plain": [
       "<tf.Tensor: shape=(), dtype=string, numpy=b'cats'>"
      ]
     },
     "execution_count": 28,
     "metadata": {},
     "output_type": "execute_result"
    }
   ],
   "source": [
    "get_label(\"images\\\\cats\\\\cat.246.jpg\")"
   ]
  },
  {
   "cell_type": "code",
   "execution_count": 26,
   "id": "befd93d8",
   "metadata": {},
   "outputs": [],
   "source": [
    "def process_image(file_path):\n",
    "    label = get_label(file_path)\n",
    "    img = tf.io.read_file(file_path) # load the raw data from the file as a string\n",
    "    img = tf.image.decode_jpeg(img)\n",
    "    img = tf.image.resize(img, [128, 128])\n",
    "    return img, label"
   ]
  },
  {
   "cell_type": "code",
   "execution_count": 29,
   "id": "fcd9fc87",
   "metadata": {},
   "outputs": [
    {
     "data": {
      "text/plain": [
       "array([[[112.44922 , 113.44922 ,  97.44922 ],\n",
       "        [114.34766 , 115.34766 ,  99.34766 ],\n",
       "        [116.24609 , 117.24609 , 101.24609 ],\n",
       "        [118.      , 119.      , 103.      ],\n",
       "        [119.      , 120.      , 104.      ],\n",
       "        [120.90831 , 121.90831 , 105.90831 ],\n",
       "        [121.      , 122.      , 106.      ],\n",
       "        [123.      , 124.      , 108.      ],\n",
       "        [125.      , 126.      , 108.      ],\n",
       "        [126.53516 , 127.53516 , 109.53516 ],\n",
       "        [126.      , 127.      , 109.      ],\n",
       "        [126.      , 127.      , 109.      ],\n",
       "        [126.23047 , 127.23047 , 109.23047 ],\n",
       "        [130.      , 131.      , 113.      ],\n",
       "        [128.      , 129.      , 111.      ],\n",
       "        [130.92578 , 131.92578 , 113.92578 ],\n",
       "        [129.17578 , 130.17578 , 112.17578 ],\n",
       "        [130.      , 131.      , 113.      ],\n",
       "        [131.      , 132.      , 114.      ],\n",
       "        [132.51953 , 133.51953 , 115.51953 ],\n",
       "        [133.41797 , 133.58203 , 115.58203 ],\n",
       "        [134.      , 133.      , 115.      ],\n",
       "        [134.42969 , 133.42969 , 115.42969 ],\n",
       "        [136.      , 135.      , 117.      ],\n",
       "        [136.01172 , 135.01172 , 117.01172 ],\n",
       "        [137.      , 136.      , 118.      ],\n",
       "        [137.      , 136.      , 118.      ],\n",
       "        [137.70703 , 136.70703 , 118.70703 ],\n",
       "        [139.      , 138.      , 120.      ],\n",
       "        [139.      , 138.      , 120.      ],\n",
       "        [139.      , 138.      , 120.      ],\n",
       "        [139.      , 138.      , 120.      ],\n",
       "        [139.      , 138.      , 120.      ],\n",
       "        [140.09766 , 139.09766 , 121.09766 ],\n",
       "        [141.0039  , 140.0039  , 122.00391 ],\n",
       "        [141.      , 140.      , 122.      ],\n",
       "        [141.      , 140.      , 122.      ],\n",
       "        [142.      , 141.      , 123.      ],\n",
       "        [143.60426 , 142.60426 , 124.60426 ],\n",
       "        [143.      , 142.      , 124.      ],\n",
       "        [143.      , 142.      , 124.      ],\n",
       "        [143.      , 142.      , 124.      ],\n",
       "        [143.      , 142.      , 124.      ],\n",
       "        [143.      , 142.      , 124.      ],\n",
       "        [143.      , 142.      , 124.      ],\n",
       "        [142.8789  , 141.8789  , 123.87891 ],\n",
       "        [145.      , 144.      , 126.      ],\n",
       "        [144.      , 143.      , 125.      ],\n",
       "        [144.      , 143.      , 125.      ],\n",
       "        [145.      , 144.      , 126.      ],\n",
       "        [145.      , 144.      , 126.      ],\n",
       "        [144.      , 143.      , 125.      ],\n",
       "        [144.      , 143.      , 125.      ],\n",
       "        [144.      , 143.      , 125.      ],\n",
       "        [144.      , 143.      , 125.      ],\n",
       "        [144.      , 143.      , 125.      ],\n",
       "        [144.      , 143.      , 125.      ],\n",
       "        [144.66016 , 143.66016 , 125.66016 ],\n",
       "        [145.      , 144.      , 126.      ],\n",
       "        [144.54297 , 143.54297 , 125.54297 ],\n",
       "        [144.      , 143.      , 125.      ],\n",
       "        [144.2539  , 143.2539  , 125.25391 ],\n",
       "        [145.      , 144.      , 126.      ],\n",
       "        [145.      , 144.      , 126.      ],\n",
       "        [145.      , 144.      , 126.      ],\n",
       "        [145.      , 144.      , 126.      ],\n",
       "        [144.      , 143.      , 125.      ],\n",
       "        [144.      , 143.      , 125.      ],\n",
       "        [143.      , 142.      , 124.      ],\n",
       "        [143.      , 142.      , 124.      ],\n",
       "        [143.      , 142.      , 122.      ],\n",
       "        [143.      , 142.      , 122.      ],\n",
       "        [143.      , 142.      , 122.      ],\n",
       "        [143.      , 142.      , 122.      ],\n",
       "        [145.      , 142.      , 123.      ],\n",
       "        [145.      , 142.      , 123.      ],\n",
       "        [143.      , 140.      , 121.      ],\n",
       "        [143.      , 140.      , 121.      ],\n",
       "        [140.52734 , 139.52734 , 121.52734 ],\n",
       "        [142.44597 , 141.44597 , 122.594406],\n",
       "        [140.37077 , 137.37077 , 118.37077 ],\n",
       "        [140.76169 , 138.5117  , 118.01167 ],\n",
       "        [139.77058 , 132.80148 , 104.86328 ],\n",
       "        [129.08409 , 118.11328 ,  88.04181 ],\n",
       "        [119.16983 , 101.39844 ,  65.565384],\n",
       "        [112.40234 ,  89.19005 ,  48.826935],\n",
       "        [108.78516 ,  81.77513 ,  38.805206],\n",
       "        [119.74797 ,  92.74797 ,  49.74797 ],\n",
       "        [112.10547 ,  85.10547 ,  42.10547 ],\n",
       "        [116.96513 ,  89.96513 ,  46.965134],\n",
       "        [135.66971 , 115.286896,  72.286896],\n",
       "        [135.84215 , 115.311966,  72.311966],\n",
       "        [124.97226 , 104.24609 ,  61.246094],\n",
       "        [129.0039  , 108.08176 ,  65.08176 ],\n",
       "        [133.83546 , 114.89891 ,  71.86719 ],\n",
       "        [127.9274  , 112.9837  ,  70.011856],\n",
       "        [127.08432 , 118.79411 ,  81.21713 ],\n",
       "        [128.21674 , 125.25876 ,  92.30078 ],\n",
       "        [133.9742  , 128.53906 , 100.05232 ],\n",
       "        [139.90195 , 131.75996 , 104.97226 ],\n",
       "        [133.06248 , 127.072784, 103.09338 ],\n",
       "        [128.50325 , 123.52344 , 101.58702 ],\n",
       "        [128.94199 , 127.18567 , 103.88414 ],\n",
       "        [131.02303 , 131.02303 , 103.023026],\n",
       "        [128.0821  , 128.0821  , 102.08211 ],\n",
       "        [130.      , 128.      , 103.      ],\n",
       "        [130.63281 , 127.69472 , 104.97775 ],\n",
       "        [127.      , 126.      , 108.      ],\n",
       "        [126.      , 125.      , 107.      ],\n",
       "        [125.96484 , 124.96484 , 106.96484 ],\n",
       "        [125.96484 , 124.96484 , 106.96484 ],\n",
       "        [127.      , 126.      , 108.      ],\n",
       "        [127.      , 126.      , 108.      ],\n",
       "        [123.02734 , 122.02734 , 104.02734 ],\n",
       "        [122.      , 121.      , 103.      ],\n",
       "        [123.25752 , 122.25752 , 104.25752 ],\n",
       "        [122.      , 121.      , 103.      ],\n",
       "        [120.      , 119.      , 101.      ],\n",
       "        [118.53516 , 117.53516 ,  99.53516 ],\n",
       "        [117.63672 , 116.63672 ,  98.63672 ],\n",
       "        [116.      , 115.      ,  97.      ],\n",
       "        [115.      , 114.      ,  96.      ],\n",
       "        [113.94141 , 112.94141 ,  94.94141 ],\n",
       "        [112.      , 111.      ,  93.      ],\n",
       "        [110.      , 109.      ,  91.      ],\n",
       "        [109.      , 108.      ,  90.      ],\n",
       "        [105.34766 , 104.34766 ,  86.34766 ],\n",
       "        [103.96484 , 102.96484 ,  84.96484 ]],\n",
       "\n",
       "       [[112.44922 , 113.44922 ,  97.44922 ],\n",
       "        [114.34766 , 115.34766 ,  99.34766 ],\n",
       "        [116.24609 , 117.24609 , 101.24609 ],\n",
       "        [118.      , 119.      , 103.      ],\n",
       "        [120.03844 , 121.03844 , 105.03844 ],\n",
       "        [121.89453 , 122.89453 , 106.89453 ],\n",
       "        [121.      , 122.      , 106.      ],\n",
       "        [123.      , 124.      , 108.      ],\n",
       "        [125.      , 126.      , 108.      ],\n",
       "        [126.53516 , 127.53516 , 109.53516 ],\n",
       "        [126.      , 127.      , 109.      ],\n",
       "        [126.      , 127.      , 109.      ],\n",
       "        [126.23047 , 127.23047 , 109.23047 ],\n",
       "        [130.      , 131.      , 113.      ],\n",
       "        [128.      , 129.      , 111.      ],\n",
       "        [130.92578 , 131.92578 , 113.92578 ],\n",
       "        [129.17578 , 130.17578 , 112.17578 ],\n",
       "        [130.      , 131.      , 113.      ],\n",
       "        [131.      , 132.      , 114.      ],\n",
       "        [132.51953 , 133.51953 , 115.51953 ],\n",
       "        [133.41797 , 133.58203 , 115.58203 ],\n",
       "        [134.      , 133.      , 115.      ],\n",
       "        [134.42969 , 133.42969 , 115.42969 ],\n",
       "        [136.      , 135.      , 117.      ],\n",
       "        [136.01172 , 135.01172 , 117.01172 ],\n",
       "        [137.      , 136.      , 118.      ],\n",
       "        [137.      , 136.      , 118.      ],\n",
       "        [137.70703 , 136.70703 , 118.70703 ],\n",
       "        [139.      , 138.      , 120.      ],\n",
       "        [139.      , 138.      , 120.      ],\n",
       "        [139.      , 138.      , 120.      ],\n",
       "        [139.      , 138.      , 120.      ],\n",
       "        [139.      , 138.      , 120.      ],\n",
       "        [140.09766 , 139.09766 , 121.09766 ],\n",
       "        [141.0039  , 140.0039  , 122.00391 ],\n",
       "        [141.      , 140.      , 122.      ],\n",
       "        [141.      , 140.      , 122.      ],\n",
       "        [140.72395 , 139.72395 , 121.72395 ],\n",
       "        [142.6331  , 141.6331  , 123.6331  ],\n",
       "        [143.      , 142.      , 124.      ],\n",
       "        [143.      , 142.      , 124.      ],\n",
       "        [143.      , 142.      , 124.      ],\n",
       "        [143.      , 142.      , 124.      ],\n",
       "        [143.      , 142.      , 124.      ],\n",
       "        [143.      , 142.      , 124.      ],\n",
       "        [142.8789  , 141.8789  , 123.87891 ],\n",
       "        [145.      , 144.      , 126.      ],\n",
       "        [144.      , 143.      , 125.      ],\n",
       "        [144.      , 143.      , 125.      ],\n",
       "        [144.10547 , 143.10547 , 125.10547 ],\n",
       "        [144.10547 , 143.10547 , 125.10547 ],\n",
       "        [144.      , 143.      , 125.      ],\n",
       "        [144.      , 143.      , 125.      ],\n",
       "        [144.      , 143.      , 125.      ],\n",
       "        [144.      , 143.      , 125.      ],\n",
       "        [144.      , 143.      , 125.      ],\n",
       "        [144.      , 143.      , 125.      ],\n",
       "        [144.06963 , 143.06963 , 125.069626],\n",
       "        [144.10547 , 143.10547 , 125.10547 ],\n",
       "        [144.05727 , 143.05727 , 125.05727 ],\n",
       "        [144.      , 143.      , 125.      ],\n",
       "        [144.02678 , 143.02678 , 125.02678 ],\n",
       "        [144.10547 , 143.10547 , 125.10547 ],\n",
       "        [144.10547 , 143.10547 , 125.10547 ],\n",
       "        [144.10547 , 143.10547 , 125.10547 ],\n",
       "        [144.10547 , 143.10547 , 125.10547 ],\n",
       "        [144.      , 143.      , 125.      ],\n",
       "        [144.      , 143.      , 125.      ],\n",
       "        [143.      , 142.      , 124.      ],\n",
       "        [143.      , 142.      , 124.      ],\n",
       "        [143.      , 142.      , 122.      ],\n",
       "        [143.      , 142.      , 122.      ],\n",
       "        [143.      , 142.      , 122.      ],\n",
       "        [143.      , 142.      , 122.      ],\n",
       "        [144.      , 141.      , 122.      ],\n",
       "        [144.      , 141.      , 122.      ],\n",
       "        [143.      , 140.      , 121.      ],\n",
       "        [143.      , 140.      , 121.      ],\n",
       "        [141.37296 , 138.5839  , 119.478424],\n",
       "        [142.89453 , 138.10547 , 118.21094 ],\n",
       "        [146.69333 , 140.7988  , 117.65817 ],\n",
       "        [135.64085 , 128.54715 , 103.40257 ],\n",
       "        [118.61148 , 103.99504 ,  71.32422 ],\n",
       "        [109.398224,  91.67763 ,  56.009445],\n",
       "        [110.577286,  87.77344 ,  47.359375],\n",
       "        [107.12483 ,  80.17154 ,  37.89453 ],\n",
       "        [105.31641 ,  78.95586 ,  30.737106],\n",
       "        [104.76781 ,  78.31641 ,  30.300781],\n",
       "        [111.024155,  84.4819  ,  36.669403],\n",
       "        [120.15567 ,  93.52257 ,  45.913193],\n",
       "        [125.815094, 100.024734,  52.82161 ],\n",
       "        [133.97035 , 107.88602 ,  62.37039 ],\n",
       "        [143.4291  , 117.05078 ,  71.83984 ],\n",
       "        [139.83244 , 113.16016 ,  68.25391 ],\n",
       "        [149.35724 , 125.47301 ,  79.47833 ],\n",
       "        [139.09132 , 118.32327 ,  73.471176],\n",
       "        [132.72893 , 117.475494,  75.9794  ],\n",
       "        [131.93803 , 121.55522 ,  84.79297 ],\n",
       "        [128.1211  , 116.0625  ,  82.16016 ],\n",
       "        [134.10547 , 119.21094 ,  87.33865 ],\n",
       "        [146.59906 , 133.72797 , 102.89238 ],\n",
       "        [131.40369 , 122.614624,  93.76047 ],\n",
       "        [130.46767 , 123.86162 ,  96.13397 ],\n",
       "        [128.13815 , 126.32565 , 101.22142 ],\n",
       "        [131.88672 , 129.88672 , 108.44922 ],\n",
       "        [130.      , 127.10547 , 107.89453 ],\n",
       "        [130.06674 , 127.      , 109.78906 ],\n",
       "        [127.      , 126.      , 108.      ],\n",
       "        [126.      , 125.      , 107.      ],\n",
       "        [128.      , 127.      , 109.      ],\n",
       "        [128.      , 127.      , 109.      ],\n",
       "        [125.10547 , 124.10547 , 106.10547 ],\n",
       "        [125.10547 , 124.10547 , 106.10547 ],\n",
       "        [123.02734 , 122.02734 , 104.02734 ],\n",
       "        [122.      , 121.      , 103.      ],\n",
       "        [122.31163 , 121.31163 , 103.31163 ],\n",
       "        [120.40248 , 119.40248 , 101.40248 ],\n",
       "        [120.      , 119.      , 101.      ],\n",
       "        [118.53516 , 117.53516 ,  99.53516 ],\n",
       "        [117.63672 , 116.63672 ,  98.63672 ],\n",
       "        [116.      , 115.      ,  97.      ],\n",
       "        [115.      , 114.      ,  96.      ],\n",
       "        [113.94141 , 112.94141 ,  94.94141 ],\n",
       "        [112.      , 111.      ,  93.      ],\n",
       "        [110.      , 109.      ,  91.      ],\n",
       "        [109.      , 108.      ,  90.      ],\n",
       "        [105.34766 , 104.34766 ,  86.34766 ],\n",
       "        [106.      , 105.      ,  87.      ]]], dtype=float32)"
      ]
     },
     "execution_count": 29,
     "metadata": {},
     "output_type": "execute_result"
    }
   ],
   "source": [
    "img, label = process_image(\"images\\\\cats\\\\cat.246.jpg\")\n",
    "img.numpy()[:2]"
   ]
  },
  {
   "cell_type": "code",
   "execution_count": 30,
   "id": "208ee249",
   "metadata": {},
   "outputs": [],
   "source": [
    "train_ds = train_ds.map(process_image)\n",
    "test_ds = test_ds.map(process_image)"
   ]
  },
  {
   "cell_type": "code",
   "execution_count": 31,
   "id": "185a128c",
   "metadata": {},
   "outputs": [
    {
     "name": "stdout",
     "output_type": "stream",
     "text": [
      "**** tf.Tensor(\n",
      "[[[208.        199.        168.       ]\n",
      "  [208.        199.        168.       ]\n",
      "  [208.        199.        168.       ]\n",
      "  ...\n",
      "  [203.        194.        163.       ]\n",
      "  [203.        194.        163.       ]\n",
      "  [203.        194.        163.       ]]\n",
      "\n",
      " [[208.        199.        168.       ]\n",
      "  [208.        199.        168.       ]\n",
      "  [208.        199.        168.       ]\n",
      "  ...\n",
      "  [203.        194.        163.       ]\n",
      "  [203.        194.        163.       ]\n",
      "  [203.        194.        163.       ]]\n",
      "\n",
      " [[208.        199.        168.       ]\n",
      "  [208.        199.        168.       ]\n",
      "  [208.        199.        168.       ]\n",
      "  ...\n",
      "  [203.        194.        163.       ]\n",
      "  [203.        194.        163.       ]\n",
      "  [203.        194.        163.       ]]\n",
      "\n",
      " ...\n",
      "\n",
      " [[213.        204.        173.       ]\n",
      "  [213.        204.        173.       ]\n",
      "  [213.        204.        173.       ]\n",
      "  ...\n",
      "  [  3.          3.          3.       ]\n",
      "  [  3.          3.          3.       ]\n",
      "  [  3.          3.          3.       ]]\n",
      "\n",
      " [[213.        204.        173.       ]\n",
      "  [213.        204.        173.       ]\n",
      "  [213.        204.        173.       ]\n",
      "  ...\n",
      "  [  3.          3.          3.       ]\n",
      "  [  3.          3.          3.       ]\n",
      "  [  3.          3.          3.       ]]\n",
      "\n",
      " [[212.5039    203.5039    172.5039   ]\n",
      "  [211.65125   202.65125   171.65125  ]\n",
      "  [210.51953   201.51953   170.51953  ]\n",
      "  ...\n",
      "  [  1.5117188   1.5117188   1.5117188]\n",
      "  [  2.6434326   2.6434326   2.6434326]\n",
      "  [  3.9921875   3.9921875   3.9921875]]], shape=(128, 128, 3), dtype=float32)\n",
      "**** tf.Tensor(b'cats', shape=(), dtype=string)\n"
     ]
    }
   ],
   "source": [
    "for image, label in train_ds.take(1):\n",
    "    print(\"****\",image)\n",
    "    print(\"****\",label)"
   ]
  },
  {
   "cell_type": "code",
   "execution_count": 32,
   "id": "e2f6c52e",
   "metadata": {},
   "outputs": [],
   "source": [
    "def scale(image, label):\n",
    "    return image/255, label"
   ]
  },
  {
   "cell_type": "code",
   "execution_count": 33,
   "id": "04d745e4",
   "metadata": {},
   "outputs": [],
   "source": [
    "train_ds = train_ds.map(scale)"
   ]
  },
  {
   "cell_type": "code",
   "execution_count": 34,
   "id": "c1864422",
   "metadata": {},
   "outputs": [
    {
     "name": "stdout",
     "output_type": "stream",
     "text": [
      "****Image:  [0.4975342  0.45795086 0.19379644]\n",
      "****Label:  b'cats'\n",
      "****Image:  [0.66752833 0.20478325 0.18909697]\n",
      "****Label:  b'cats'\n",
      "****Image:  [0.7978554  0.6449142  0.34295344]\n",
      "****Label:  b'cats'\n",
      "****Image:  [0.44577205 0.44969362 0.43008578]\n",
      "****Label:  b'cats'\n",
      "****Image:  [0.55430454 0.51508886 0.47979474]\n",
      "****Label:  b'cats'\n"
     ]
    }
   ],
   "source": [
    "for image, label in train_ds.take(5):\n",
    "    print(\"****Image: \",image.numpy()[0][0])\n",
    "    print(\"****Label: \",label.numpy())"
   ]
  },
  {
   "cell_type": "code",
   "execution_count": null,
   "id": "49d929d6",
   "metadata": {},
   "outputs": [],
   "source": []
  }
 ],
 "metadata": {
  "kernelspec": {
   "display_name": "Python 3 (ipykernel)",
   "language": "python",
   "name": "python3"
  },
  "language_info": {
   "codemirror_mode": {
    "name": "ipython",
    "version": 3
   },
   "file_extension": ".py",
   "mimetype": "text/x-python",
   "name": "python",
   "nbconvert_exporter": "python",
   "pygments_lexer": "ipython3",
   "version": "3.9.12"
  }
 },
 "nbformat": 4,
 "nbformat_minor": 5
}
