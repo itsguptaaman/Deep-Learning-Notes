{
 "cells": [
  {
   "cell_type": "code",
   "execution_count": 1,
   "metadata": {
    "colab": {
     "base_uri": "https://localhost:8080/"
    },
    "id": "lNeMvQUpDDsn",
    "outputId": "27a8d260-78da-4e49-a1cd-c1c9b226ac45"
   },
   "outputs": [],
   "source": [
    "# Installing the tensor flow module\n",
    "# !pip install tensorflow-gpu"
   ]
  },
  {
   "cell_type": "code",
   "execution_count": 2,
   "metadata": {
    "colab": {
     "base_uri": "https://localhost:8080/",
     "height": 35
    },
    "id": "dXKZOJ1hbEja",
    "outputId": "82d481d9-8311-402d-a109-539d4d09dfb5"
   },
   "outputs": [
    {
     "data": {
      "text/plain": [
       "'2.10.1'"
      ]
     },
     "execution_count": 2,
     "metadata": {},
     "output_type": "execute_result"
    }
   ],
   "source": [
    "import tensorflow as tf\n",
    "tf.__version__"
   ]
  },
  {
   "cell_type": "code",
   "execution_count": 3,
   "metadata": {
    "id": "K54-VBorbEmB"
   },
   "outputs": [],
   "source": [
    "# importing some basic libraries\n",
    "import numpy as np\n",
    "import pandas as pd\n",
    "import matplotlib.pyplot as plt"
   ]
  },
  {
   "cell_type": "code",
   "execution_count": 4,
   "metadata": {
    "id": "z_xjruKibEoN"
   },
   "outputs": [],
   "source": [
    "df = pd.read_csv(\"Churn_Modelling.csv\")"
   ]
  },
  {
   "cell_type": "code",
   "execution_count": 5,
   "metadata": {
    "colab": {
     "base_uri": "https://localhost:8080/"
    },
    "id": "HkiLVvxlhJU5",
    "outputId": "cd57ff01-dd50-4ec7-c1cc-274f211cd624"
   },
   "outputs": [
    {
     "data": {
      "text/plain": [
       "(10000, 14)"
      ]
     },
     "execution_count": 5,
     "metadata": {},
     "output_type": "execute_result"
    }
   ],
   "source": [
    "df.shape"
   ]
  },
  {
   "cell_type": "code",
   "execution_count": 6,
   "metadata": {
    "colab": {
     "base_uri": "https://localhost:8080/",
     "height": 206
    },
    "id": "lp0_Gdo3bEqQ",
    "outputId": "bc09d5d0-ba85-4de2-ad79-811b49c166c9"
   },
   "outputs": [
    {
     "data": {
      "text/html": [
       "<div>\n",
       "<style scoped>\n",
       "    .dataframe tbody tr th:only-of-type {\n",
       "        vertical-align: middle;\n",
       "    }\n",
       "\n",
       "    .dataframe tbody tr th {\n",
       "        vertical-align: top;\n",
       "    }\n",
       "\n",
       "    .dataframe thead th {\n",
       "        text-align: right;\n",
       "    }\n",
       "</style>\n",
       "<table border=\"1\" class=\"dataframe\">\n",
       "  <thead>\n",
       "    <tr style=\"text-align: right;\">\n",
       "      <th></th>\n",
       "      <th>RowNumber</th>\n",
       "      <th>CustomerId</th>\n",
       "      <th>Surname</th>\n",
       "      <th>CreditScore</th>\n",
       "      <th>Geography</th>\n",
       "      <th>Gender</th>\n",
       "      <th>Age</th>\n",
       "      <th>Tenure</th>\n",
       "      <th>Balance</th>\n",
       "      <th>NumOfProducts</th>\n",
       "      <th>HasCrCard</th>\n",
       "      <th>IsActiveMember</th>\n",
       "      <th>EstimatedSalary</th>\n",
       "      <th>Exited</th>\n",
       "    </tr>\n",
       "  </thead>\n",
       "  <tbody>\n",
       "    <tr>\n",
       "      <th>0</th>\n",
       "      <td>1</td>\n",
       "      <td>15634602</td>\n",
       "      <td>Hargrave</td>\n",
       "      <td>619</td>\n",
       "      <td>France</td>\n",
       "      <td>Female</td>\n",
       "      <td>42</td>\n",
       "      <td>2</td>\n",
       "      <td>0.00</td>\n",
       "      <td>1</td>\n",
       "      <td>1</td>\n",
       "      <td>1</td>\n",
       "      <td>101348.88</td>\n",
       "      <td>1</td>\n",
       "    </tr>\n",
       "    <tr>\n",
       "      <th>1</th>\n",
       "      <td>2</td>\n",
       "      <td>15647311</td>\n",
       "      <td>Hill</td>\n",
       "      <td>608</td>\n",
       "      <td>Spain</td>\n",
       "      <td>Female</td>\n",
       "      <td>41</td>\n",
       "      <td>1</td>\n",
       "      <td>83807.86</td>\n",
       "      <td>1</td>\n",
       "      <td>0</td>\n",
       "      <td>1</td>\n",
       "      <td>112542.58</td>\n",
       "      <td>0</td>\n",
       "    </tr>\n",
       "    <tr>\n",
       "      <th>2</th>\n",
       "      <td>3</td>\n",
       "      <td>15619304</td>\n",
       "      <td>Onio</td>\n",
       "      <td>502</td>\n",
       "      <td>France</td>\n",
       "      <td>Female</td>\n",
       "      <td>42</td>\n",
       "      <td>8</td>\n",
       "      <td>159660.80</td>\n",
       "      <td>3</td>\n",
       "      <td>1</td>\n",
       "      <td>0</td>\n",
       "      <td>113931.57</td>\n",
       "      <td>1</td>\n",
       "    </tr>\n",
       "    <tr>\n",
       "      <th>3</th>\n",
       "      <td>4</td>\n",
       "      <td>15701354</td>\n",
       "      <td>Boni</td>\n",
       "      <td>699</td>\n",
       "      <td>France</td>\n",
       "      <td>Female</td>\n",
       "      <td>39</td>\n",
       "      <td>1</td>\n",
       "      <td>0.00</td>\n",
       "      <td>2</td>\n",
       "      <td>0</td>\n",
       "      <td>0</td>\n",
       "      <td>93826.63</td>\n",
       "      <td>0</td>\n",
       "    </tr>\n",
       "    <tr>\n",
       "      <th>4</th>\n",
       "      <td>5</td>\n",
       "      <td>15737888</td>\n",
       "      <td>Mitchell</td>\n",
       "      <td>850</td>\n",
       "      <td>Spain</td>\n",
       "      <td>Female</td>\n",
       "      <td>43</td>\n",
       "      <td>2</td>\n",
       "      <td>125510.82</td>\n",
       "      <td>1</td>\n",
       "      <td>1</td>\n",
       "      <td>1</td>\n",
       "      <td>79084.10</td>\n",
       "      <td>0</td>\n",
       "    </tr>\n",
       "  </tbody>\n",
       "</table>\n",
       "</div>"
      ],
      "text/plain": [
       "   RowNumber  CustomerId   Surname  CreditScore Geography  Gender  Age  \\\n",
       "0          1    15634602  Hargrave          619    France  Female   42   \n",
       "1          2    15647311      Hill          608     Spain  Female   41   \n",
       "2          3    15619304      Onio          502    France  Female   42   \n",
       "3          4    15701354      Boni          699    France  Female   39   \n",
       "4          5    15737888  Mitchell          850     Spain  Female   43   \n",
       "\n",
       "   Tenure    Balance  NumOfProducts  HasCrCard  IsActiveMember  \\\n",
       "0       2       0.00              1          1               1   \n",
       "1       1   83807.86              1          0               1   \n",
       "2       8  159660.80              3          1               0   \n",
       "3       1       0.00              2          0               0   \n",
       "4       2  125510.82              1          1               1   \n",
       "\n",
       "   EstimatedSalary  Exited  \n",
       "0        101348.88       1  \n",
       "1        112542.58       0  \n",
       "2        113931.57       1  \n",
       "3         93826.63       0  \n",
       "4         79084.10       0  "
      ]
     },
     "execution_count": 6,
     "metadata": {},
     "output_type": "execute_result"
    }
   ],
   "source": [
    "df.head()"
   ]
  },
  {
   "cell_type": "code",
   "execution_count": 7,
   "metadata": {
    "colab": {
     "base_uri": "https://localhost:8080/"
    },
    "id": "a2qtsihkfLYz",
    "outputId": "75831992-aa03-45d2-de81-786d9ba2960c"
   },
   "outputs": [
    {
     "data": {
      "text/plain": [
       "RowNumber          0.0\n",
       "CustomerId         0.0\n",
       "Surname            0.0\n",
       "CreditScore        0.0\n",
       "Geography          0.0\n",
       "Gender             0.0\n",
       "Age                0.0\n",
       "Tenure             0.0\n",
       "Balance            0.0\n",
       "NumOfProducts      0.0\n",
       "HasCrCard          0.0\n",
       "IsActiveMember     0.0\n",
       "EstimatedSalary    0.0\n",
       "Exited             0.0\n",
       "dtype: float64"
      ]
     },
     "execution_count": 7,
     "metadata": {},
     "output_type": "execute_result"
    }
   ],
   "source": [
    "df.isnull().mean()"
   ]
  },
  {
   "cell_type": "code",
   "execution_count": 8,
   "metadata": {
    "colab": {
     "base_uri": "https://localhost:8080/"
    },
    "id": "vXFb8APjfPqQ",
    "outputId": "91086c63-d1a7-4e03-8841-c81719f22989"
   },
   "outputs": [
    {
     "data": {
      "text/plain": [
       "0"
      ]
     },
     "execution_count": 8,
     "metadata": {},
     "output_type": "execute_result"
    }
   ],
   "source": [
    "df.duplicated().sum()"
   ]
  },
  {
   "cell_type": "code",
   "execution_count": 9,
   "metadata": {
    "id": "jRM-ufvUbEs4"
   },
   "outputs": [],
   "source": [
    "# Divide the dataset into dependent and independent features\n",
    "X = df.drop(columns=[\"Exited\",\"RowNumber\",\"CustomerId\",\"Surname\"])\n",
    "y=df[\"Exited\"]"
   ]
  },
  {
   "cell_type": "code",
   "execution_count": 10,
   "metadata": {
    "colab": {
     "base_uri": "https://localhost:8080/",
     "height": 206
    },
    "id": "AJARVJgydzTy",
    "outputId": "6a698845-ce16-41ba-9ecf-3f4777f88bb6"
   },
   "outputs": [
    {
     "data": {
      "text/html": [
       "<div>\n",
       "<style scoped>\n",
       "    .dataframe tbody tr th:only-of-type {\n",
       "        vertical-align: middle;\n",
       "    }\n",
       "\n",
       "    .dataframe tbody tr th {\n",
       "        vertical-align: top;\n",
       "    }\n",
       "\n",
       "    .dataframe thead th {\n",
       "        text-align: right;\n",
       "    }\n",
       "</style>\n",
       "<table border=\"1\" class=\"dataframe\">\n",
       "  <thead>\n",
       "    <tr style=\"text-align: right;\">\n",
       "      <th></th>\n",
       "      <th>CreditScore</th>\n",
       "      <th>Geography</th>\n",
       "      <th>Gender</th>\n",
       "      <th>Age</th>\n",
       "      <th>Tenure</th>\n",
       "      <th>Balance</th>\n",
       "      <th>NumOfProducts</th>\n",
       "      <th>HasCrCard</th>\n",
       "      <th>IsActiveMember</th>\n",
       "      <th>EstimatedSalary</th>\n",
       "    </tr>\n",
       "  </thead>\n",
       "  <tbody>\n",
       "    <tr>\n",
       "      <th>0</th>\n",
       "      <td>619</td>\n",
       "      <td>France</td>\n",
       "      <td>Female</td>\n",
       "      <td>42</td>\n",
       "      <td>2</td>\n",
       "      <td>0.00</td>\n",
       "      <td>1</td>\n",
       "      <td>1</td>\n",
       "      <td>1</td>\n",
       "      <td>101348.88</td>\n",
       "    </tr>\n",
       "    <tr>\n",
       "      <th>1</th>\n",
       "      <td>608</td>\n",
       "      <td>Spain</td>\n",
       "      <td>Female</td>\n",
       "      <td>41</td>\n",
       "      <td>1</td>\n",
       "      <td>83807.86</td>\n",
       "      <td>1</td>\n",
       "      <td>0</td>\n",
       "      <td>1</td>\n",
       "      <td>112542.58</td>\n",
       "    </tr>\n",
       "    <tr>\n",
       "      <th>2</th>\n",
       "      <td>502</td>\n",
       "      <td>France</td>\n",
       "      <td>Female</td>\n",
       "      <td>42</td>\n",
       "      <td>8</td>\n",
       "      <td>159660.80</td>\n",
       "      <td>3</td>\n",
       "      <td>1</td>\n",
       "      <td>0</td>\n",
       "      <td>113931.57</td>\n",
       "    </tr>\n",
       "    <tr>\n",
       "      <th>3</th>\n",
       "      <td>699</td>\n",
       "      <td>France</td>\n",
       "      <td>Female</td>\n",
       "      <td>39</td>\n",
       "      <td>1</td>\n",
       "      <td>0.00</td>\n",
       "      <td>2</td>\n",
       "      <td>0</td>\n",
       "      <td>0</td>\n",
       "      <td>93826.63</td>\n",
       "    </tr>\n",
       "    <tr>\n",
       "      <th>4</th>\n",
       "      <td>850</td>\n",
       "      <td>Spain</td>\n",
       "      <td>Female</td>\n",
       "      <td>43</td>\n",
       "      <td>2</td>\n",
       "      <td>125510.82</td>\n",
       "      <td>1</td>\n",
       "      <td>1</td>\n",
       "      <td>1</td>\n",
       "      <td>79084.10</td>\n",
       "    </tr>\n",
       "  </tbody>\n",
       "</table>\n",
       "</div>"
      ],
      "text/plain": [
       "   CreditScore Geography  Gender  Age  Tenure    Balance  NumOfProducts  \\\n",
       "0          619    France  Female   42       2       0.00              1   \n",
       "1          608     Spain  Female   41       1   83807.86              1   \n",
       "2          502    France  Female   42       8  159660.80              3   \n",
       "3          699    France  Female   39       1       0.00              2   \n",
       "4          850     Spain  Female   43       2  125510.82              1   \n",
       "\n",
       "   HasCrCard  IsActiveMember  EstimatedSalary  \n",
       "0          1               1        101348.88  \n",
       "1          0               1        112542.58  \n",
       "2          1               0        113931.57  \n",
       "3          0               0         93826.63  \n",
       "4          1               1         79084.10  "
      ]
     },
     "execution_count": 10,
     "metadata": {},
     "output_type": "execute_result"
    }
   ],
   "source": [
    "X.head()"
   ]
  },
  {
   "cell_type": "code",
   "execution_count": 11,
   "metadata": {
    "colab": {
     "base_uri": "https://localhost:8080/"
    },
    "id": "y5gcKHyGeibL",
    "outputId": "08663206-6906-465b-ed5a-b4736fdb3799"
   },
   "outputs": [
    {
     "data": {
      "text/plain": [
       "0    1\n",
       "1    0\n",
       "2    1\n",
       "3    0\n",
       "4    0\n",
       "Name: Exited, dtype: int64"
      ]
     },
     "execution_count": 11,
     "metadata": {},
     "output_type": "execute_result"
    }
   ],
   "source": [
    "y.head()"
   ]
  },
  {
   "cell_type": "code",
   "execution_count": 12,
   "metadata": {
    "id": "L3teyfuRepU6"
   },
   "outputs": [],
   "source": [
    "# Feature Engineering\n",
    "from sklearn.compose import ColumnTransformer\n",
    "from sklearn.preprocessing import OneHotEncoder"
   ]
  },
  {
   "cell_type": "code",
   "execution_count": 13,
   "metadata": {
    "id": "gKqaCxhdffBd"
   },
   "outputs": [],
   "source": [
    "transformer=ColumnTransformer(transformers=[\n",
    "    ('tnf1', OneHotEncoder(drop='first'),[\"Geography\",\"Gender\"],)\n",
    "],remainder='passthrough')"
   ]
  },
  {
   "cell_type": "code",
   "execution_count": 14,
   "metadata": {
    "colab": {
     "base_uri": "https://localhost:8080/"
    },
    "id": "b46RulrDhzez",
    "outputId": "81fcc59f-8eef-4c9a-b02b-139bfd4f0c50"
   },
   "outputs": [
    {
     "data": {
      "text/plain": [
       "Index(['CreditScore', 'Geography', 'Gender', 'Age', 'Tenure', 'Balance',\n",
       "       'NumOfProducts', 'HasCrCard', 'IsActiveMember', 'EstimatedSalary'],\n",
       "      dtype='object')"
      ]
     },
     "execution_count": 14,
     "metadata": {},
     "output_type": "execute_result"
    }
   ],
   "source": [
    "X.columns"
   ]
  },
  {
   "cell_type": "code",
   "execution_count": 15,
   "metadata": {
    "id": "3MYvwSYjg8Kg"
   },
   "outputs": [],
   "source": [
    "X=pd.DataFrame(transformer.fit_transform(X),columns=['Germany','Spain','Male','CreditScore','Age', 'Tenure', 'Balance',\n",
    "       'NumOfProducts', 'HasCrCard', 'IsActiveMember', 'EstimatedSalary'])"
   ]
  },
  {
   "cell_type": "code",
   "execution_count": 16,
   "metadata": {
    "colab": {
     "base_uri": "https://localhost:8080/",
     "height": 206
    },
    "id": "bKiYcW65hAIM",
    "outputId": "d807c795-9531-4a34-d664-4f1a6c6d011b"
   },
   "outputs": [
    {
     "data": {
      "text/html": [
       "<div>\n",
       "<style scoped>\n",
       "    .dataframe tbody tr th:only-of-type {\n",
       "        vertical-align: middle;\n",
       "    }\n",
       "\n",
       "    .dataframe tbody tr th {\n",
       "        vertical-align: top;\n",
       "    }\n",
       "\n",
       "    .dataframe thead th {\n",
       "        text-align: right;\n",
       "    }\n",
       "</style>\n",
       "<table border=\"1\" class=\"dataframe\">\n",
       "  <thead>\n",
       "    <tr style=\"text-align: right;\">\n",
       "      <th></th>\n",
       "      <th>Germany</th>\n",
       "      <th>Spain</th>\n",
       "      <th>Male</th>\n",
       "      <th>CreditScore</th>\n",
       "      <th>Age</th>\n",
       "      <th>Tenure</th>\n",
       "      <th>Balance</th>\n",
       "      <th>NumOfProducts</th>\n",
       "      <th>HasCrCard</th>\n",
       "      <th>IsActiveMember</th>\n",
       "      <th>EstimatedSalary</th>\n",
       "    </tr>\n",
       "  </thead>\n",
       "  <tbody>\n",
       "    <tr>\n",
       "      <th>0</th>\n",
       "      <td>0.0</td>\n",
       "      <td>0.0</td>\n",
       "      <td>0.0</td>\n",
       "      <td>619.0</td>\n",
       "      <td>42.0</td>\n",
       "      <td>2.0</td>\n",
       "      <td>0.00</td>\n",
       "      <td>1.0</td>\n",
       "      <td>1.0</td>\n",
       "      <td>1.0</td>\n",
       "      <td>101348.88</td>\n",
       "    </tr>\n",
       "    <tr>\n",
       "      <th>1</th>\n",
       "      <td>0.0</td>\n",
       "      <td>1.0</td>\n",
       "      <td>0.0</td>\n",
       "      <td>608.0</td>\n",
       "      <td>41.0</td>\n",
       "      <td>1.0</td>\n",
       "      <td>83807.86</td>\n",
       "      <td>1.0</td>\n",
       "      <td>0.0</td>\n",
       "      <td>1.0</td>\n",
       "      <td>112542.58</td>\n",
       "    </tr>\n",
       "    <tr>\n",
       "      <th>2</th>\n",
       "      <td>0.0</td>\n",
       "      <td>0.0</td>\n",
       "      <td>0.0</td>\n",
       "      <td>502.0</td>\n",
       "      <td>42.0</td>\n",
       "      <td>8.0</td>\n",
       "      <td>159660.80</td>\n",
       "      <td>3.0</td>\n",
       "      <td>1.0</td>\n",
       "      <td>0.0</td>\n",
       "      <td>113931.57</td>\n",
       "    </tr>\n",
       "    <tr>\n",
       "      <th>3</th>\n",
       "      <td>0.0</td>\n",
       "      <td>0.0</td>\n",
       "      <td>0.0</td>\n",
       "      <td>699.0</td>\n",
       "      <td>39.0</td>\n",
       "      <td>1.0</td>\n",
       "      <td>0.00</td>\n",
       "      <td>2.0</td>\n",
       "      <td>0.0</td>\n",
       "      <td>0.0</td>\n",
       "      <td>93826.63</td>\n",
       "    </tr>\n",
       "    <tr>\n",
       "      <th>4</th>\n",
       "      <td>0.0</td>\n",
       "      <td>1.0</td>\n",
       "      <td>0.0</td>\n",
       "      <td>850.0</td>\n",
       "      <td>43.0</td>\n",
       "      <td>2.0</td>\n",
       "      <td>125510.82</td>\n",
       "      <td>1.0</td>\n",
       "      <td>1.0</td>\n",
       "      <td>1.0</td>\n",
       "      <td>79084.10</td>\n",
       "    </tr>\n",
       "  </tbody>\n",
       "</table>\n",
       "</div>"
      ],
      "text/plain": [
       "   Germany  Spain  Male  CreditScore   Age  Tenure    Balance  NumOfProducts  \\\n",
       "0      0.0    0.0   0.0        619.0  42.0     2.0       0.00            1.0   \n",
       "1      0.0    1.0   0.0        608.0  41.0     1.0   83807.86            1.0   \n",
       "2      0.0    0.0   0.0        502.0  42.0     8.0  159660.80            3.0   \n",
       "3      0.0    0.0   0.0        699.0  39.0     1.0       0.00            2.0   \n",
       "4      0.0    1.0   0.0        850.0  43.0     2.0  125510.82            1.0   \n",
       "\n",
       "   HasCrCard  IsActiveMember  EstimatedSalary  \n",
       "0        1.0             1.0        101348.88  \n",
       "1        0.0             1.0        112542.58  \n",
       "2        1.0             0.0        113931.57  \n",
       "3        0.0             0.0         93826.63  \n",
       "4        1.0             1.0         79084.10  "
      ]
     },
     "execution_count": 16,
     "metadata": {},
     "output_type": "execute_result"
    }
   ],
   "source": [
    "X.head()"
   ]
  },
  {
   "cell_type": "code",
   "execution_count": 17,
   "metadata": {
    "id": "CztP4eymiwsh"
   },
   "outputs": [],
   "source": [
    "# train test split\n",
    "from sklearn.model_selection import train_test_split"
   ]
  },
  {
   "cell_type": "code",
   "execution_count": 18,
   "metadata": {
    "id": "wNez61gjkJfq"
   },
   "outputs": [],
   "source": [
    "X_train, X_test, y_train, y_test = train_test_split(X, y, test_size=0.20, random_state=0)"
   ]
  },
  {
   "cell_type": "code",
   "execution_count": 19,
   "metadata": {
    "id": "SuinjpcDka2H"
   },
   "outputs": [],
   "source": [
    "# Feature Scaling\n",
    "from sklearn.preprocessing import StandardScaler"
   ]
  },
  {
   "cell_type": "code",
   "execution_count": 20,
   "metadata": {
    "id": "naBckNHCk_O8"
   },
   "outputs": [],
   "source": [
    "scale=StandardScaler()"
   ]
  },
  {
   "cell_type": "code",
   "execution_count": 21,
   "metadata": {
    "colab": {
     "base_uri": "https://localhost:8080/"
    },
    "id": "I3uJSjEOlnt6",
    "outputId": "90c3d9fc-efa4-4e1f-b002-014426faaa25"
   },
   "outputs": [
    {
     "data": {
      "text/html": [
       "<style>#sk-container-id-1 {color: black;background-color: white;}#sk-container-id-1 pre{padding: 0;}#sk-container-id-1 div.sk-toggleable {background-color: white;}#sk-container-id-1 label.sk-toggleable__label {cursor: pointer;display: block;width: 100%;margin-bottom: 0;padding: 0.3em;box-sizing: border-box;text-align: center;}#sk-container-id-1 label.sk-toggleable__label-arrow:before {content: \"▸\";float: left;margin-right: 0.25em;color: #696969;}#sk-container-id-1 label.sk-toggleable__label-arrow:hover:before {color: black;}#sk-container-id-1 div.sk-estimator:hover label.sk-toggleable__label-arrow:before {color: black;}#sk-container-id-1 div.sk-toggleable__content {max-height: 0;max-width: 0;overflow: hidden;text-align: left;background-color: #f0f8ff;}#sk-container-id-1 div.sk-toggleable__content pre {margin: 0.2em;color: black;border-radius: 0.25em;background-color: #f0f8ff;}#sk-container-id-1 input.sk-toggleable__control:checked~div.sk-toggleable__content {max-height: 200px;max-width: 100%;overflow: auto;}#sk-container-id-1 input.sk-toggleable__control:checked~label.sk-toggleable__label-arrow:before {content: \"▾\";}#sk-container-id-1 div.sk-estimator input.sk-toggleable__control:checked~label.sk-toggleable__label {background-color: #d4ebff;}#sk-container-id-1 div.sk-label input.sk-toggleable__control:checked~label.sk-toggleable__label {background-color: #d4ebff;}#sk-container-id-1 input.sk-hidden--visually {border: 0;clip: rect(1px 1px 1px 1px);clip: rect(1px, 1px, 1px, 1px);height: 1px;margin: -1px;overflow: hidden;padding: 0;position: absolute;width: 1px;}#sk-container-id-1 div.sk-estimator {font-family: monospace;background-color: #f0f8ff;border: 1px dotted black;border-radius: 0.25em;box-sizing: border-box;margin-bottom: 0.5em;}#sk-container-id-1 div.sk-estimator:hover {background-color: #d4ebff;}#sk-container-id-1 div.sk-parallel-item::after {content: \"\";width: 100%;border-bottom: 1px solid gray;flex-grow: 1;}#sk-container-id-1 div.sk-label:hover label.sk-toggleable__label {background-color: #d4ebff;}#sk-container-id-1 div.sk-serial::before {content: \"\";position: absolute;border-left: 1px solid gray;box-sizing: border-box;top: 0;bottom: 0;left: 50%;z-index: 0;}#sk-container-id-1 div.sk-serial {display: flex;flex-direction: column;align-items: center;background-color: white;padding-right: 0.2em;padding-left: 0.2em;position: relative;}#sk-container-id-1 div.sk-item {position: relative;z-index: 1;}#sk-container-id-1 div.sk-parallel {display: flex;align-items: stretch;justify-content: center;background-color: white;position: relative;}#sk-container-id-1 div.sk-item::before, #sk-container-id-1 div.sk-parallel-item::before {content: \"\";position: absolute;border-left: 1px solid gray;box-sizing: border-box;top: 0;bottom: 0;left: 50%;z-index: -1;}#sk-container-id-1 div.sk-parallel-item {display: flex;flex-direction: column;z-index: 1;position: relative;background-color: white;}#sk-container-id-1 div.sk-parallel-item:first-child::after {align-self: flex-end;width: 50%;}#sk-container-id-1 div.sk-parallel-item:last-child::after {align-self: flex-start;width: 50%;}#sk-container-id-1 div.sk-parallel-item:only-child::after {width: 0;}#sk-container-id-1 div.sk-dashed-wrapped {border: 1px dashed gray;margin: 0 0.4em 0.5em 0.4em;box-sizing: border-box;padding-bottom: 0.4em;background-color: white;}#sk-container-id-1 div.sk-label label {font-family: monospace;font-weight: bold;display: inline-block;line-height: 1.2em;}#sk-container-id-1 div.sk-label-container {text-align: center;}#sk-container-id-1 div.sk-container {/* jupyter's `normalize.less` sets `[hidden] { display: none; }` but bootstrap.min.css set `[hidden] { display: none !important; }` so we also need the `!important` here to be able to override the default hidden behavior on the sphinx rendered scikit-learn.org. See: https://github.com/scikit-learn/scikit-learn/issues/21755 */display: inline-block !important;position: relative;}#sk-container-id-1 div.sk-text-repr-fallback {display: none;}</style><div id=\"sk-container-id-1\" class=\"sk-top-container\"><div class=\"sk-text-repr-fallback\"><pre>StandardScaler()</pre><b>In a Jupyter environment, please rerun this cell to show the HTML representation or trust the notebook. <br />On GitHub, the HTML representation is unable to render, please try loading this page with nbviewer.org.</b></div><div class=\"sk-container\" hidden><div class=\"sk-item\"><div class=\"sk-estimator sk-toggleable\"><input class=\"sk-toggleable__control sk-hidden--visually\" id=\"sk-estimator-id-1\" type=\"checkbox\" checked><label for=\"sk-estimator-id-1\" class=\"sk-toggleable__label sk-toggleable__label-arrow\">StandardScaler</label><div class=\"sk-toggleable__content\"><pre>StandardScaler()</pre></div></div></div></div></div>"
      ],
      "text/plain": [
       "StandardScaler()"
      ]
     },
     "execution_count": 21,
     "metadata": {},
     "output_type": "execute_result"
    }
   ],
   "source": [
    "scale.fit(X_train)"
   ]
  },
  {
   "cell_type": "code",
   "execution_count": 22,
   "metadata": {
    "colab": {
     "base_uri": "https://localhost:8080/",
     "height": 424
    },
    "id": "COuvterWmNB_",
    "outputId": "3d396d40-da1b-4593-cda5-aae2fe830b76"
   },
   "outputs": [
    {
     "data": {
      "text/html": [
       "<div>\n",
       "<style scoped>\n",
       "    .dataframe tbody tr th:only-of-type {\n",
       "        vertical-align: middle;\n",
       "    }\n",
       "\n",
       "    .dataframe tbody tr th {\n",
       "        vertical-align: top;\n",
       "    }\n",
       "\n",
       "    .dataframe thead th {\n",
       "        text-align: right;\n",
       "    }\n",
       "</style>\n",
       "<table border=\"1\" class=\"dataframe\">\n",
       "  <thead>\n",
       "    <tr style=\"text-align: right;\">\n",
       "      <th></th>\n",
       "      <th>Germany</th>\n",
       "      <th>Spain</th>\n",
       "      <th>Male</th>\n",
       "      <th>CreditScore</th>\n",
       "      <th>Age</th>\n",
       "      <th>Tenure</th>\n",
       "      <th>Balance</th>\n",
       "      <th>NumOfProducts</th>\n",
       "      <th>HasCrCard</th>\n",
       "      <th>IsActiveMember</th>\n",
       "      <th>EstimatedSalary</th>\n",
       "    </tr>\n",
       "  </thead>\n",
       "  <tbody>\n",
       "    <tr>\n",
       "      <th>9394</th>\n",
       "      <td>1.0</td>\n",
       "      <td>0.0</td>\n",
       "      <td>0.0</td>\n",
       "      <td>597.0</td>\n",
       "      <td>35.0</td>\n",
       "      <td>8.0</td>\n",
       "      <td>131101.04</td>\n",
       "      <td>1.0</td>\n",
       "      <td>1.0</td>\n",
       "      <td>1.0</td>\n",
       "      <td>192852.67</td>\n",
       "    </tr>\n",
       "    <tr>\n",
       "      <th>898</th>\n",
       "      <td>0.0</td>\n",
       "      <td>0.0</td>\n",
       "      <td>0.0</td>\n",
       "      <td>523.0</td>\n",
       "      <td>40.0</td>\n",
       "      <td>2.0</td>\n",
       "      <td>102967.41</td>\n",
       "      <td>1.0</td>\n",
       "      <td>1.0</td>\n",
       "      <td>0.0</td>\n",
       "      <td>128702.10</td>\n",
       "    </tr>\n",
       "    <tr>\n",
       "      <th>2398</th>\n",
       "      <td>0.0</td>\n",
       "      <td>1.0</td>\n",
       "      <td>0.0</td>\n",
       "      <td>706.0</td>\n",
       "      <td>42.0</td>\n",
       "      <td>8.0</td>\n",
       "      <td>95386.82</td>\n",
       "      <td>1.0</td>\n",
       "      <td>1.0</td>\n",
       "      <td>1.0</td>\n",
       "      <td>75732.25</td>\n",
       "    </tr>\n",
       "    <tr>\n",
       "      <th>5906</th>\n",
       "      <td>0.0</td>\n",
       "      <td>0.0</td>\n",
       "      <td>1.0</td>\n",
       "      <td>788.0</td>\n",
       "      <td>32.0</td>\n",
       "      <td>4.0</td>\n",
       "      <td>112079.58</td>\n",
       "      <td>1.0</td>\n",
       "      <td>0.0</td>\n",
       "      <td>0.0</td>\n",
       "      <td>89368.59</td>\n",
       "    </tr>\n",
       "    <tr>\n",
       "      <th>2343</th>\n",
       "      <td>1.0</td>\n",
       "      <td>0.0</td>\n",
       "      <td>1.0</td>\n",
       "      <td>706.0</td>\n",
       "      <td>38.0</td>\n",
       "      <td>5.0</td>\n",
       "      <td>163034.82</td>\n",
       "      <td>2.0</td>\n",
       "      <td>1.0</td>\n",
       "      <td>1.0</td>\n",
       "      <td>135662.17</td>\n",
       "    </tr>\n",
       "    <tr>\n",
       "      <th>...</th>\n",
       "      <td>...</td>\n",
       "      <td>...</td>\n",
       "      <td>...</td>\n",
       "      <td>...</td>\n",
       "      <td>...</td>\n",
       "      <td>...</td>\n",
       "      <td>...</td>\n",
       "      <td>...</td>\n",
       "      <td>...</td>\n",
       "      <td>...</td>\n",
       "      <td>...</td>\n",
       "    </tr>\n",
       "    <tr>\n",
       "      <th>1037</th>\n",
       "      <td>0.0</td>\n",
       "      <td>0.0</td>\n",
       "      <td>0.0</td>\n",
       "      <td>625.0</td>\n",
       "      <td>24.0</td>\n",
       "      <td>1.0</td>\n",
       "      <td>0.00</td>\n",
       "      <td>2.0</td>\n",
       "      <td>1.0</td>\n",
       "      <td>1.0</td>\n",
       "      <td>180969.55</td>\n",
       "    </tr>\n",
       "    <tr>\n",
       "      <th>2899</th>\n",
       "      <td>0.0</td>\n",
       "      <td>0.0</td>\n",
       "      <td>0.0</td>\n",
       "      <td>586.0</td>\n",
       "      <td>35.0</td>\n",
       "      <td>7.0</td>\n",
       "      <td>0.00</td>\n",
       "      <td>2.0</td>\n",
       "      <td>1.0</td>\n",
       "      <td>0.0</td>\n",
       "      <td>70760.69</td>\n",
       "    </tr>\n",
       "    <tr>\n",
       "      <th>9549</th>\n",
       "      <td>0.0</td>\n",
       "      <td>1.0</td>\n",
       "      <td>1.0</td>\n",
       "      <td>578.0</td>\n",
       "      <td>36.0</td>\n",
       "      <td>1.0</td>\n",
       "      <td>157267.95</td>\n",
       "      <td>2.0</td>\n",
       "      <td>1.0</td>\n",
       "      <td>0.0</td>\n",
       "      <td>141533.19</td>\n",
       "    </tr>\n",
       "    <tr>\n",
       "      <th>2740</th>\n",
       "      <td>1.0</td>\n",
       "      <td>0.0</td>\n",
       "      <td>1.0</td>\n",
       "      <td>650.0</td>\n",
       "      <td>34.0</td>\n",
       "      <td>4.0</td>\n",
       "      <td>142393.11</td>\n",
       "      <td>1.0</td>\n",
       "      <td>1.0</td>\n",
       "      <td>1.0</td>\n",
       "      <td>11276.48</td>\n",
       "    </tr>\n",
       "    <tr>\n",
       "      <th>6690</th>\n",
       "      <td>1.0</td>\n",
       "      <td>0.0</td>\n",
       "      <td>1.0</td>\n",
       "      <td>573.0</td>\n",
       "      <td>30.0</td>\n",
       "      <td>8.0</td>\n",
       "      <td>127406.50</td>\n",
       "      <td>1.0</td>\n",
       "      <td>1.0</td>\n",
       "      <td>0.0</td>\n",
       "      <td>192950.60</td>\n",
       "    </tr>\n",
       "  </tbody>\n",
       "</table>\n",
       "<p>2000 rows × 11 columns</p>\n",
       "</div>"
      ],
      "text/plain": [
       "      Germany  Spain  Male  CreditScore   Age  Tenure    Balance  \\\n",
       "9394      1.0    0.0   0.0        597.0  35.0     8.0  131101.04   \n",
       "898       0.0    0.0   0.0        523.0  40.0     2.0  102967.41   \n",
       "2398      0.0    1.0   0.0        706.0  42.0     8.0   95386.82   \n",
       "5906      0.0    0.0   1.0        788.0  32.0     4.0  112079.58   \n",
       "2343      1.0    0.0   1.0        706.0  38.0     5.0  163034.82   \n",
       "...       ...    ...   ...          ...   ...     ...        ...   \n",
       "1037      0.0    0.0   0.0        625.0  24.0     1.0       0.00   \n",
       "2899      0.0    0.0   0.0        586.0  35.0     7.0       0.00   \n",
       "9549      0.0    1.0   1.0        578.0  36.0     1.0  157267.95   \n",
       "2740      1.0    0.0   1.0        650.0  34.0     4.0  142393.11   \n",
       "6690      1.0    0.0   1.0        573.0  30.0     8.0  127406.50   \n",
       "\n",
       "      NumOfProducts  HasCrCard  IsActiveMember  EstimatedSalary  \n",
       "9394            1.0        1.0             1.0        192852.67  \n",
       "898             1.0        1.0             0.0        128702.10  \n",
       "2398            1.0        1.0             1.0         75732.25  \n",
       "5906            1.0        0.0             0.0         89368.59  \n",
       "2343            2.0        1.0             1.0        135662.17  \n",
       "...             ...        ...             ...              ...  \n",
       "1037            2.0        1.0             1.0        180969.55  \n",
       "2899            2.0        1.0             0.0         70760.69  \n",
       "9549            2.0        1.0             0.0        141533.19  \n",
       "2740            1.0        1.0             1.0         11276.48  \n",
       "6690            1.0        1.0             0.0        192950.60  \n",
       "\n",
       "[2000 rows x 11 columns]"
      ]
     },
     "execution_count": 22,
     "metadata": {},
     "output_type": "execute_result"
    }
   ],
   "source": [
    "X_test"
   ]
  },
  {
   "cell_type": "code",
   "execution_count": 23,
   "metadata": {
    "id": "m6plV4PcluyJ"
   },
   "outputs": [],
   "source": [
    "X_train=pd.DataFrame(scale.transform(X_train), columns=X_train.columns)\n",
    "X_test=pd.DataFrame(scale.transform(X_test), columns=X_test.columns)"
   ]
  },
  {
   "cell_type": "code",
   "execution_count": 24,
   "metadata": {
    "id": "oUbF3oA0qKqm"
   },
   "outputs": [],
   "source": [
    "# Tensorflow is from google \n",
    "# Keras is wrapper which uses Tensorflow api now it is integrated from version 2.0\n",
    "\n",
    "# Sequential layer:- It means the entire neural network as a block and can do forward and backword propogation\n",
    "# Dense layer:- It is used to create neurons in the hidden layers, Input layers, Output layers\n",
    "# Activation functions LeakyReLU, PReLU, ELU, ReLU :-  we are using activitation function in the hidden layer\n",
    "# Dropout layer :- It is just like a regularization when we use it the neurons go dead or removed"
   ]
  },
  {
   "cell_type": "code",
   "execution_count": 25,
   "metadata": {
    "id": "6HdEODcimEpa"
   },
   "outputs": [],
   "source": [
    "# ANN using tensorflow\n",
    "from tensorflow.keras.models import Sequential\n",
    "from tensorflow.keras.layers import Dense\n",
    "from tensorflow.keras.layers import LeakyReLU, PReLU, ELU, ReLU\n",
    "from tensorflow.keras.layers import Dropout"
   ]
  },
  {
   "cell_type": "code",
   "execution_count": 26,
   "metadata": {
    "id": "7hDn0cKlqFCc"
   },
   "outputs": [],
   "source": [
    "# Lets initilize the ANN\n",
    "clf=Sequential()"
   ]
  },
  {
   "cell_type": "code",
   "execution_count": 27,
   "metadata": {
    "id": "D4gRg-anv5bK"
   },
   "outputs": [],
   "source": [
    "# Adding the input Layer\n",
    "# Because we have 11 columns we use units as 11\n",
    "# Using weights initilization\n",
    "# clf.add(Dense(units=11, activation=\"relu\", kernel_initializer=\"he_uniform\", input_dim=1))\n",
    "clf.add(Dense(units=11, activation=\"relu\"))"
   ]
  },
  {
   "cell_type": "code",
   "execution_count": 28,
   "metadata": {
    "id": "gwy0suvHwUNZ"
   },
   "outputs": [],
   "source": [
    "# Adding the first hidden layer\n",
    "# clf.add(Dense(units=9, activation=\"relu\", kernel_initializer=\"he_uniform\" ))\n",
    "clf.add(Dense(units=9, activation=\"relu\"))\n",
    "clf.add(Dropout(0.3))"
   ]
  },
  {
   "cell_type": "code",
   "execution_count": 29,
   "metadata": {
    "id": "Z49Op6kOwqu7"
   },
   "outputs": [],
   "source": [
    "# Adding the second hidden layer\n",
    "clf.add(Dense(units=5, activation=\"relu\"))\n",
    "clf.add(Dropout(0.3))"
   ]
  },
  {
   "cell_type": "code",
   "execution_count": 30,
   "metadata": {
    "id": "RoXhsaXew_g6"
   },
   "outputs": [],
   "source": [
    "# Adding the output layer\n",
    "clf.add(Dense(units=1, activation=\"sigmoid\"))"
   ]
  },
  {
   "cell_type": "code",
   "execution_count": 31,
   "metadata": {
    "id": "8LxCPVx3yWYU"
   },
   "outputs": [],
   "source": [
    "# from keras.optimizers import learning_rate_schedule\n",
    "\n",
    "import tensorflow\n",
    "opt=tensorflow.keras.optimizers.Adam(learning_rate=0.01)"
   ]
  },
  {
   "cell_type": "code",
   "execution_count": 32,
   "metadata": {
    "id": "3biOKTL-xMkL"
   },
   "outputs": [],
   "source": [
    "# clf.compile(optimizer=\"adam\", loss=\"binary_crossentropy\", metrics=[\"accuracy\"])\n",
    "clf.compile(optimizer=opt, loss=\"binary_crossentropy\", metrics=[\"accuracy\"])"
   ]
  },
  {
   "cell_type": "code",
   "execution_count": 33,
   "metadata": {
    "id": "436mvym40R3U"
   },
   "outputs": [],
   "source": [
    "# Early stopping\n",
    "# When the accuracy is not increaing then training will stop automatically "
   ]
  },
  {
   "cell_type": "code",
   "execution_count": 34,
   "metadata": {
    "id": "9IAX_gZG0jCX"
   },
   "outputs": [],
   "source": [
    "\n",
    "early_stopping=tf.keras.callbacks.EarlyStopping(\n",
    "    monitor=\"val_loss\",\n",
    "    min_delta=0.0001,\n",
    "    patience=25,\n",
    "    verbose=2,\n",
    "    mode=\"auto\",\n",
    "    baseline=None,\n",
    "    restore_best_weights=False,\n",
    ")\n"
   ]
  },
  {
   "cell_type": "code",
   "execution_count": 35,
   "metadata": {
    "colab": {
     "base_uri": "https://localhost:8080/"
    },
    "id": "h6Cb8rSsxnyh",
    "outputId": "f7d2d6ec-e193-4e80-9e1b-164d4f4b2cb5"
   },
   "outputs": [
    {
     "name": "stdout",
     "output_type": "stream",
     "text": [
      "Epoch 1/1000\n"
     ]
    },
    {
     "name": "stderr",
     "output_type": "stream",
     "text": [
      "C:\\Users\\Aman\\anaconda3\\lib\\site-packages\\keras\\engine\\data_adapter.py:1699: FutureWarning: The behavior of `series[i:j]` with an integer-dtype index is deprecated. In a future version, this will be treated as *label-based* indexing, consistent with e.g. `series[i]` lookups. To retain the old behavior, use `series.iloc[i:j]`. To get the future behavior, use `series.loc[i:j]`.\n",
      "  return t[start:end]\n"
     ]
    },
    {
     "name": "stdout",
     "output_type": "stream",
     "text": [
      "536/536 [==============================] - 2s 2ms/step - loss: 0.5085 - accuracy: 0.7869 - val_loss: 0.4480 - val_accuracy: 0.7959\n",
      "Epoch 2/1000\n",
      "536/536 [==============================] - 1s 1ms/step - loss: 0.4348 - accuracy: 0.8181 - val_loss: 0.3929 - val_accuracy: 0.8395\n",
      "Epoch 3/1000\n",
      "536/536 [==============================] - 1s 1ms/step - loss: 0.4042 - accuracy: 0.8313 - val_loss: 0.3899 - val_accuracy: 0.8395\n",
      "Epoch 4/1000\n",
      "536/536 [==============================] - 1s 2ms/step - loss: 0.3996 - accuracy: 0.8367 - val_loss: 0.3881 - val_accuracy: 0.8368\n",
      "Epoch 5/1000\n",
      "536/536 [==============================] - 1s 2ms/step - loss: 0.3974 - accuracy: 0.8367 - val_loss: 0.4048 - val_accuracy: 0.8217\n",
      "Epoch 6/1000\n",
      "536/536 [==============================] - 1s 2ms/step - loss: 0.3994 - accuracy: 0.8373 - val_loss: 0.3878 - val_accuracy: 0.8368\n",
      "Epoch 7/1000\n",
      "536/536 [==============================] - 1s 1ms/step - loss: 0.3978 - accuracy: 0.8360 - val_loss: 0.3752 - val_accuracy: 0.8425\n",
      "Epoch 8/1000\n",
      "536/536 [==============================] - 1s 2ms/step - loss: 0.3928 - accuracy: 0.8403 - val_loss: 0.3783 - val_accuracy: 0.8421\n",
      "Epoch 9/1000\n",
      "536/536 [==============================] - 1s 2ms/step - loss: 0.3923 - accuracy: 0.8397 - val_loss: 0.3726 - val_accuracy: 0.8463\n",
      "Epoch 10/1000\n",
      "536/536 [==============================] - 1s 2ms/step - loss: 0.3921 - accuracy: 0.8384 - val_loss: 0.3773 - val_accuracy: 0.8421\n",
      "Epoch 11/1000\n",
      "536/536 [==============================] - 1s 1ms/step - loss: 0.3901 - accuracy: 0.8431 - val_loss: 0.3648 - val_accuracy: 0.8463\n",
      "Epoch 12/1000\n",
      "536/536 [==============================] - 1s 1ms/step - loss: 0.3893 - accuracy: 0.8365 - val_loss: 0.3819 - val_accuracy: 0.8364\n",
      "Epoch 13/1000\n",
      "536/536 [==============================] - 1s 2ms/step - loss: 0.3993 - accuracy: 0.8399 - val_loss: 0.3741 - val_accuracy: 0.8448\n",
      "Epoch 14/1000\n",
      "536/536 [==============================] - 1s 1ms/step - loss: 0.3925 - accuracy: 0.8386 - val_loss: 0.3639 - val_accuracy: 0.8489\n",
      "Epoch 15/1000\n",
      "536/536 [==============================] - 1s 2ms/step - loss: 0.3922 - accuracy: 0.8373 - val_loss: 0.3744 - val_accuracy: 0.8448\n",
      "Epoch 16/1000\n",
      "536/536 [==============================] - 1s 2ms/step - loss: 0.3926 - accuracy: 0.8365 - val_loss: 0.3700 - val_accuracy: 0.8470\n",
      "Epoch 17/1000\n",
      "536/536 [==============================] - 1s 2ms/step - loss: 0.3874 - accuracy: 0.8446 - val_loss: 0.3843 - val_accuracy: 0.8372\n",
      "Epoch 18/1000\n",
      "536/536 [==============================] - 1s 1ms/step - loss: 0.3887 - accuracy: 0.8434 - val_loss: 0.3755 - val_accuracy: 0.8395\n",
      "Epoch 19/1000\n",
      "536/536 [==============================] - 1s 2ms/step - loss: 0.3903 - accuracy: 0.8369 - val_loss: 0.3685 - val_accuracy: 0.8432\n",
      "Epoch 20/1000\n",
      "536/536 [==============================] - 1s 2ms/step - loss: 0.3946 - accuracy: 0.8364 - val_loss: 0.3653 - val_accuracy: 0.8485\n",
      "Epoch 21/1000\n",
      "536/536 [==============================] - 1s 2ms/step - loss: 0.3902 - accuracy: 0.8410 - val_loss: 0.3728 - val_accuracy: 0.8466\n",
      "Epoch 22/1000\n",
      "536/536 [==============================] - 1s 2ms/step - loss: 0.3882 - accuracy: 0.8391 - val_loss: 0.3789 - val_accuracy: 0.8342\n",
      "Epoch 23/1000\n",
      "536/536 [==============================] - 1s 2ms/step - loss: 0.3853 - accuracy: 0.8401 - val_loss: 0.3786 - val_accuracy: 0.8459\n",
      "Epoch 24/1000\n",
      "536/536 [==============================] - 1s 2ms/step - loss: 0.3899 - accuracy: 0.8412 - val_loss: 0.3645 - val_accuracy: 0.8493\n",
      "Epoch 25/1000\n",
      "536/536 [==============================] - 1s 2ms/step - loss: 0.3830 - accuracy: 0.8434 - val_loss: 0.3666 - val_accuracy: 0.8455\n",
      "Epoch 26/1000\n",
      "536/536 [==============================] - 1s 2ms/step - loss: 0.3866 - accuracy: 0.8427 - val_loss: 0.3675 - val_accuracy: 0.8455\n",
      "Epoch 27/1000\n",
      "536/536 [==============================] - 1s 2ms/step - loss: 0.3802 - accuracy: 0.8390 - val_loss: 0.3637 - val_accuracy: 0.8470\n",
      "Epoch 28/1000\n",
      "536/536 [==============================] - 1s 2ms/step - loss: 0.3847 - accuracy: 0.8358 - val_loss: 0.3661 - val_accuracy: 0.8485\n",
      "Epoch 29/1000\n",
      "536/536 [==============================] - 1s 2ms/step - loss: 0.3807 - accuracy: 0.8421 - val_loss: 0.3814 - val_accuracy: 0.8349\n",
      "Epoch 30/1000\n",
      "536/536 [==============================] - 1s 2ms/step - loss: 0.3721 - accuracy: 0.8459 - val_loss: 0.3617 - val_accuracy: 0.8493\n",
      "Epoch 31/1000\n",
      "536/536 [==============================] - 1s 2ms/step - loss: 0.3823 - accuracy: 0.8419 - val_loss: 0.3679 - val_accuracy: 0.8512\n",
      "Epoch 32/1000\n",
      "536/536 [==============================] - 1s 2ms/step - loss: 0.3709 - accuracy: 0.8489 - val_loss: 0.3724 - val_accuracy: 0.8451\n",
      "Epoch 33/1000\n",
      "536/536 [==============================] - 1s 2ms/step - loss: 0.3815 - accuracy: 0.8416 - val_loss: 0.3817 - val_accuracy: 0.8319\n",
      "Epoch 34/1000\n",
      "536/536 [==============================] - 1s 2ms/step - loss: 0.3732 - accuracy: 0.8444 - val_loss: 0.3697 - val_accuracy: 0.8531\n",
      "Epoch 35/1000\n",
      "536/536 [==============================] - 1s 2ms/step - loss: 0.3810 - accuracy: 0.8408 - val_loss: 0.3693 - val_accuracy: 0.8474\n",
      "Epoch 36/1000\n",
      "536/536 [==============================] - 1s 2ms/step - loss: 0.3754 - accuracy: 0.8427 - val_loss: 0.3776 - val_accuracy: 0.8417\n",
      "Epoch 37/1000\n",
      "536/536 [==============================] - 1s 2ms/step - loss: 0.3766 - accuracy: 0.8427 - val_loss: 0.3711 - val_accuracy: 0.8501\n",
      "Epoch 38/1000\n",
      "536/536 [==============================] - 1s 2ms/step - loss: 0.3725 - accuracy: 0.8442 - val_loss: 0.3674 - val_accuracy: 0.8504\n",
      "Epoch 39/1000\n",
      "536/536 [==============================] - 1s 2ms/step - loss: 0.3758 - accuracy: 0.8474 - val_loss: 0.3736 - val_accuracy: 0.8478\n",
      "Epoch 40/1000\n",
      "536/536 [==============================] - 1s 1ms/step - loss: 0.3768 - accuracy: 0.8403 - val_loss: 0.3745 - val_accuracy: 0.8470\n",
      "Epoch 41/1000\n",
      "536/536 [==============================] - 1s 2ms/step - loss: 0.3782 - accuracy: 0.8410 - val_loss: 0.3694 - val_accuracy: 0.8501\n",
      "Epoch 42/1000\n",
      "536/536 [==============================] - 1s 1ms/step - loss: 0.3713 - accuracy: 0.8449 - val_loss: 0.3729 - val_accuracy: 0.8538\n",
      "Epoch 43/1000\n",
      "536/536 [==============================] - 1s 1ms/step - loss: 0.3753 - accuracy: 0.8442 - val_loss: 0.3712 - val_accuracy: 0.8542\n",
      "Epoch 44/1000\n",
      "536/536 [==============================] - 1s 1ms/step - loss: 0.3735 - accuracy: 0.8447 - val_loss: 0.3775 - val_accuracy: 0.8501\n",
      "Epoch 45/1000\n",
      "536/536 [==============================] - 1s 1ms/step - loss: 0.3811 - accuracy: 0.8397 - val_loss: 0.3710 - val_accuracy: 0.8436\n",
      "Epoch 46/1000\n",
      "536/536 [==============================] - 1s 1ms/step - loss: 0.3717 - accuracy: 0.8431 - val_loss: 0.3763 - val_accuracy: 0.8508\n",
      "Epoch 47/1000\n",
      "536/536 [==============================] - 1s 1ms/step - loss: 0.3763 - accuracy: 0.8419 - val_loss: 0.3688 - val_accuracy: 0.8448\n",
      "Epoch 48/1000\n",
      "536/536 [==============================] - 1s 2ms/step - loss: 0.3713 - accuracy: 0.8403 - val_loss: 0.3782 - val_accuracy: 0.8364\n",
      "Epoch 49/1000\n",
      "536/536 [==============================] - 1s 2ms/step - loss: 0.3689 - accuracy: 0.8449 - val_loss: 0.3688 - val_accuracy: 0.8482\n",
      "Epoch 50/1000\n",
      "536/536 [==============================] - 1s 2ms/step - loss: 0.3678 - accuracy: 0.8395 - val_loss: 0.3852 - val_accuracy: 0.8391\n",
      "Epoch 51/1000\n",
      "536/536 [==============================] - 1s 2ms/step - loss: 0.3721 - accuracy: 0.8446 - val_loss: 0.3706 - val_accuracy: 0.8493\n",
      "Epoch 52/1000\n",
      "536/536 [==============================] - 1s 2ms/step - loss: 0.3698 - accuracy: 0.8447 - val_loss: 0.3716 - val_accuracy: 0.8425\n",
      "Epoch 53/1000\n",
      "536/536 [==============================] - 1s 2ms/step - loss: 0.3756 - accuracy: 0.8419 - val_loss: 0.3640 - val_accuracy: 0.8527\n",
      "Epoch 54/1000\n",
      "536/536 [==============================] - 1s 2ms/step - loss: 0.3705 - accuracy: 0.8468 - val_loss: 0.3663 - val_accuracy: 0.8485\n",
      "Epoch 55/1000\n",
      "536/536 [==============================] - 1s 2ms/step - loss: 0.3743 - accuracy: 0.8393 - val_loss: 0.3691 - val_accuracy: 0.8561\n",
      "Epoch 55: early stopping\n"
     ]
    }
   ],
   "source": [
    "model_history = clf.fit(X_train, y_train, validation_split = 0.33, batch_size=10, epochs=1000, callbacks=early_stopping)"
   ]
  },
  {
   "cell_type": "code",
   "execution_count": 36,
   "metadata": {
    "colab": {
     "base_uri": "https://localhost:8080/"
    },
    "id": "KzSXHxDPy04m",
    "outputId": "5dbc6fe2-5b0e-4f83-9aaa-ab57f9cc2822"
   },
   "outputs": [
    {
     "data": {
      "text/plain": [
       "dict_keys(['loss', 'accuracy', 'val_loss', 'val_accuracy'])"
      ]
     },
     "execution_count": 36,
     "metadata": {},
     "output_type": "execute_result"
    }
   ],
   "source": [
    "model_history.history.keys()"
   ]
  },
  {
   "cell_type": "code",
   "execution_count": 37,
   "metadata": {
    "colab": {
     "base_uri": "https://localhost:8080/",
     "height": 295
    },
    "id": "uACpAFm40POq",
    "outputId": "6a319808-9339-46bd-e7b5-f1001139b0e0"
   },
   "outputs": [
    {
     "data": {
      "image/png": "[encoded data removed]",
      "text/plain": [
       "<Figure size 432x288 with 1 Axes>"
      ]
     },
     "metadata": {
      "needs_background": "light"
     },
     "output_type": "display_data"
    }
   ],
   "source": [
    "\n",
    "# summarize history for accuracy\n",
    "plt.plot(model_history.history['accuracy'])\n",
    "plt.plot(model_history.history['val_accuracy'])\n",
    "plt.title('model accuracy')\n",
    "plt.ylabel('accuracy')\n",
    "plt.xlabel('epoch')\n",
    "plt.legend(['train', 'test'], loc='upper left')\n",
    "plt.show()"
   ]
  },
  {
   "cell_type": "code",
   "execution_count": 38,
   "metadata": {
    "colab": {
     "base_uri": "https://localhost:8080/",
     "height": 295
    },
    "id": "8_pmcDvL2Vps",
    "outputId": "8d23af17-d7f3-41a3-d0dc-e8219d8ba8bc"
   },
   "outputs": [
    {
     "data": {
      "image/png": "[encoded data removed]",
      "text/plain": [
       "<Figure size 432x288 with 1 Axes>"
      ]
     },
     "metadata": {
      "needs_background": "light"
     },
     "output_type": "display_data"
    }
   ],
   "source": [
    "# summarize history for loss\n",
    "plt.plot(model_history.history['loss'])\n",
    "plt.plot(model_history.history['val_loss'])\n",
    "plt.title('model loss')\n",
    "plt.ylabel('loss')\n",
    "plt.xlabel('epoch')\n",
    "plt.legend(['train', 'test'], loc='upper left')\n",
    "plt.show()"
   ]
  },
  {
   "cell_type": "code",
   "execution_count": 39,
   "metadata": {
    "colab": {
     "base_uri": "https://localhost:8080/"
    },
    "id": "_1GSLokm2m-c",
    "outputId": "d7c36f1b-5be1-4a71-d49a-12aa030a1801"
   },
   "outputs": [
    {
     "name": "stdout",
     "output_type": "stream",
     "text": [
      "63/63 [==============================] - 0s 973us/step\n"
     ]
    }
   ],
   "source": [
    "#  Making the predictions and evaluating the model\n",
    "# Predicting the Test set results\n",
    "y_pred = clf.predict(X_test)\n",
    "y_pred = (y_pred > 0.5)"
   ]
  },
  {
   "cell_type": "code",
   "execution_count": 40,
   "metadata": {
    "colab": {
     "base_uri": "https://localhost:8080/"
    },
    "id": "utyoUJRX3A26",
    "outputId": "17f0b48e-3c12-4565-f5a1-ba116d43166d"
   },
   "outputs": [
    {
     "data": {
      "text/plain": [
       "array([[1538,   57],\n",
       "       [ 222,  183]], dtype=int64)"
      ]
     },
     "execution_count": 40,
     "metadata": {},
     "output_type": "execute_result"
    }
   ],
   "source": [
    "# Making the Confusion Matrix\n",
    "from sklearn.metrics import confusion_matrix\n",
    "cm = confusion_matrix(y_test, y_pred)\n",
    "cm"
   ]
  },
  {
   "cell_type": "code",
   "execution_count": 41,
   "metadata": {
    "id": "MxiM2eEI3Djx"
   },
   "outputs": [],
   "source": [
    "# Calculate the Accuracy\n",
    "from sklearn.metrics import accuracy_score\n",
    "score=accuracy_score(y_pred,y_test)"
   ]
  },
  {
   "cell_type": "code",
   "execution_count": 42,
   "metadata": {
    "colab": {
     "base_uri": "https://localhost:8080/"
    },
    "id": "TeCeb2xi3XBk",
    "outputId": "c2be97ad-726d-4da9-a325-7643a414b81f"
   },
   "outputs": [
    {
     "data": {
      "text/plain": [
       "0.8605"
      ]
     },
     "execution_count": 42,
     "metadata": {},
     "output_type": "execute_result"
    }
   ],
   "source": [
    "score"
   ]
  },
  {
   "cell_type": "code",
   "execution_count": 43,
   "metadata": {
    "colab": {
     "base_uri": "https://localhost:8080/"
    },
    "id": "pLuqp6-13Ytm",
    "outputId": "8be11313-c1af-4d6f-8a54-238f7fd07ca5"
   },
   "outputs": [
    {
     "data": {
      "text/plain": [
       "[array([[ 1.5195742 , -0.7484529 ,  0.3601421 , -3.09274   ,  2.3919764 ,\n",
       "         -0.1585612 ,  0.16823742, -0.26423314,  0.13033654, -1.0932438 ,\n",
       "         -1.0216689 ],\n",
       "        [ 0.36347237,  0.5354144 ,  0.33071655, -0.45401204, -0.28993395,\n",
       "          0.8633529 , -0.31506914, -1.0969735 , -0.28037333,  0.21007593,\n",
       "         -0.22409308],\n",
       "        [ 0.7327774 , -0.3731588 ,  0.5315941 , -0.08993075, -0.34877354,\n",
       "          0.42491755,  0.7441953 ,  0.50921655, -0.30825382,  2.460959  ,\n",
       "         -0.27526587],\n",
       "        [-0.03901616, -0.8451939 ,  0.65746975, -0.776865  , -0.872699  ,\n",
       "          0.5604875 , -0.3532852 , -0.13129623, -0.04253035,  0.520171  ,\n",
       "         -0.41104987],\n",
       "        [-0.32523608, -1.2874795 , -0.8908105 ,  0.8039562 ,  1.7427596 ,\n",
       "          0.8349386 ,  2.8777072 , -3.2927105 , -0.3314796 , -2.4033942 ,\n",
       "          2.2091439 ],\n",
       "        [ 0.54090005,  1.5428759 ,  0.60626066, -1.0362052 ,  0.13543335,\n",
       "          0.05837622, -0.35572535, -0.46095192, -0.27308694,  0.08067963,\n",
       "         -1.1512969 ],\n",
       "        [ 1.8092184 ,  0.42495742, -2.2160769 ,  2.616631  , -2.6383724 ,\n",
       "          0.30020148, -0.1970844 , -1.0132431 , -0.04162261, -0.01329614,\n",
       "         -0.80494994],\n",
       "        [ 1.5093234 ,  0.10362581,  2.2679079 ,  2.245022  , -3.7925467 ,\n",
       "          3.2312603 ,  0.6970138 ,  1.7150646 ,  4.417321  ,  0.8712628 ,\n",
       "         -0.36444202],\n",
       "        [-1.221856  ,  0.04341559, -0.45642573,  0.80654   ,  0.06891764,\n",
       "         -0.52849644, -0.0172479 , -0.2165621 ,  0.0663837 , -0.21152775,\n",
       "         -0.53563297],\n",
       "        [-0.9120259 ,  1.5679315 ,  1.2124746 , -1.4880991 , -0.8671291 ,\n",
       "         -0.51833576,  1.7470849 , -0.7695432 , -0.20925179,  0.15542099,\n",
       "         -1.454539  ],\n",
       "        [-1.9165846 , -1.5546857 ,  0.7944956 ,  0.29622996,  0.7144636 ,\n",
       "          0.94949454,  0.02337968, -0.26035744,  0.3068239 ,  0.01427967,\n",
       "         -0.23168226]], dtype=float32),\n",
       " array([-3.0781138 , -2.4241083 , -1.0989075 , -2.5378673 , -0.8041102 ,\n",
       "        -4.043553  , -4.7041864 ,  3.7770884 , -4.763527  , -0.77907723,\n",
       "        -2.48186   ], dtype=float32),\n",
       " array([[-0.53209   ,  1.1878462 , -0.02395206, -0.75829226, -1.1832124 ,\n",
       "         -0.23664686, -0.48430926, -0.8065047 ,  1.2096859 ],\n",
       "        [ 0.83532315, -0.05841711, -0.13870728, -0.3141968 ,  0.3354105 ,\n",
       "          0.94763654, -0.08840532,  0.05613623, -0.23037867],\n",
       "        [ 1.4822154 , -0.50116456, -0.98029935, -0.6692355 ,  0.8995398 ,\n",
       "          1.1451868 ,  0.8409935 ,  1.0273414 , -0.00814589],\n",
       "        [-3.9395537 ,  0.5743177 , -0.57050514, -0.24296437, -0.74228185,\n",
       "         -0.91355294, -0.85972196, -0.31017098,  0.6804036 ],\n",
       "        [-1.9963809 ,  0.56641483, -0.57787526, -0.8274577 , -1.535448  ,\n",
       "         -1.1225499 , -0.9277985 , -1.8004562 ,  0.39968222],\n",
       "        [-0.7728262 ,  0.82300156, -0.23066667, -0.745409  , -1.4441478 ,\n",
       "         -2.6765175 , -0.07159265, -1.5524638 ,  0.832701  ],\n",
       "        [ 0.9605178 , -3.5860252 , -0.6837591 , -0.04070086,  0.45105782,\n",
       "          1.8426576 ,  1.5144262 ,  1.5447696 , -2.873217  ],\n",
       "        [ 0.69022715, -1.7569175 , -0.73910725, -1.0291423 ,  0.8976845 ,\n",
       "          0.9173078 , -0.15419425,  0.46804988, -2.0298312 ],\n",
       "        [-1.9591268 ,  2.8022976 , -0.15274642, -0.80363464, -2.9848845 ,\n",
       "         -2.375432  , -1.9601651 , -3.1177216 ,  2.767654  ],\n",
       "        [ 0.7433613 ,  0.0993904 , -0.01307542, -0.03052503,  0.2950334 ,\n",
       "          0.5790857 ,  0.549667  ,  0.49042794,  0.1078915 ],\n",
       "        [ 0.71449333,  0.8567944 , -0.29119274, -0.84712833,  0.07120007,\n",
       "          0.17496699,  0.7850255 , -0.54243976,  0.9708616 ]],\n",
       "       dtype=float32),\n",
       " array([-0.2624134 , -1.958705  , -0.73898304, -1.525463  ,  0.60621065,\n",
       "         0.65365666, -3.6508796 ,  0.2402845 , -1.8470037 ], dtype=float32),\n",
       " array([[ 0.38468605, -3.4993849 , -0.08837208, -0.79493845, -0.30128026],\n",
       "        [-1.313152  ,  0.5657649 , -0.17637607,  0.40110302,  0.2670341 ],\n",
       "        [-0.05838743, -0.00781463, -0.233897  ,  0.4687996 ,  0.39727855],\n",
       "        [-0.15270728, -0.4031167 , -0.5345086 , -0.21662605, -0.23492274],\n",
       "        [ 0.03339027, -0.41998473, -0.03936854, -0.6396578 , -1.3594031 ],\n",
       "        [-0.01277466, -0.19646178, -0.01960115, -0.4144853 , -3.5666144 ],\n",
       "        [ 1.473578  , -0.51037455, -0.02223214, -0.26589003, -1.0169756 ],\n",
       "        [ 0.3629869 , -2.4450824 , -0.2342498 , -0.57350194, -1.0389837 ],\n",
       "        [-1.3574628 ,  0.19359738, -0.48829052,  0.09915106,  0.39176756]],\n",
       "       dtype=float32),\n",
       " array([-1.0889544 ,  1.4083009 , -0.16849507,  1.2457374 ,  1.0296147 ],\n",
       "       dtype=float32),\n",
       " array([[-0.12138855],\n",
       "        [ 0.28217253],\n",
       "        [ 0.51706034],\n",
       "        [ 0.3929539 ],\n",
       "        [ 0.30792522]], dtype=float32),\n",
       " array([-1.7639536], dtype=float32)]"
      ]
     },
     "execution_count": 43,
     "metadata": {},
     "output_type": "execute_result"
    }
   ],
   "source": [
    "# get the weights \n",
    "clf.get_weights()"
   ]
  },
  {
   "cell_type": "code",
   "execution_count": null,
   "metadata": {
    "id": "CTk-5vKp3iKp"
   },
   "outputs": [],
   "source": []
  },
  {
   "cell_type": "code",
   "execution_count": null,
   "metadata": {},
   "outputs": [],
   "source": []
  }
 ],
 "metadata": {
  "accelerator": "GPU",
  "colab": {
   "provenance": []
  },
  "gpuClass": "standard",
  "kernelspec": {
   "display_name": "Python 3 (ipykernel)",
   "language": "python",
   "name": "python3"
  },
  "language_info": {
   "codemirror_mode": {
    "name": "ipython",
    "version": 3
   },
   "file_extension": ".py",
   "mimetype": "text/x-python",
   "name": "python",
   "nbconvert_exporter": "python",
   "pygments_lexer": "ipython3",
   "version": "3.9.12"
  }
 },
 "nbformat": 4,
 "nbformat_minor": 1
}
