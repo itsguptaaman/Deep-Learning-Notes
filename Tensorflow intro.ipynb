{
 "cells": [
  {
   "cell_type": "code",
   "execution_count": null,
   "id": "2bf0a8c0",
   "metadata": {},
   "outputs": [],
   "source": []
  },
  {
   "cell_type": "code",
   "execution_count": 1,
   "id": "67b5625b",
   "metadata": {},
   "outputs": [],
   "source": [
    "import tensorflow as tf"
   ]
  },
  {
   "cell_type": "code",
   "execution_count": 2,
   "id": "3a9a3685",
   "metadata": {},
   "outputs": [],
   "source": [
    "# Constant :- It is a thing which we cannot change in a run time\n",
    "hello_constant = tf.constant(\"Hello_world!\")"
   ]
  },
  {
   "cell_type": "code",
   "execution_count": 3,
   "id": "972bb075",
   "metadata": {},
   "outputs": [
    {
     "data": {
      "text/plain": [
       "<tf.Tensor: shape=(), dtype=string, numpy=b'Hello_world!'>"
      ]
     },
     "execution_count": 3,
     "metadata": {},
     "output_type": "execute_result"
    }
   ],
   "source": [
    "hello_constant"
   ]
  },
  {
   "cell_type": "code",
   "execution_count": 6,
   "id": "1b125f9c",
   "metadata": {},
   "outputs": [
    {
     "name": "stdout",
     "output_type": "stream",
     "text": [
      "Hello_world!\r\n"
     ]
    }
   ],
   "source": [
    "tf.print(hello_constant)"
   ]
  },
  {
   "cell_type": "code",
   "execution_count": 7,
   "id": "0c09daaa",
   "metadata": {},
   "outputs": [
    {
     "data": {
      "text/plain": [
       "<tf.Tensor: shape=(), dtype=int32, numpy=4>"
      ]
     },
     "execution_count": 7,
     "metadata": {},
     "output_type": "execute_result"
    }
   ],
   "source": [
    "tf.add(1,3)"
   ]
  },
  {
   "cell_type": "code",
   "execution_count": null,
   "id": "af4db87f",
   "metadata": {},
   "outputs": [],
   "source": []
  }
 ],
 "metadata": {
  "kernelspec": {
   "display_name": "Python 3 (ipykernel)",
   "language": "python",
   "name": "python3"
  },
  "language_info": {
   "codemirror_mode": {
    "name": "ipython",
    "version": 3
   },
   "file_extension": ".py",
   "mimetype": "text/x-python",
   "name": "python",
   "nbconvert_exporter": "python",
   "pygments_lexer": "ipython3",
   "version": "3.9.12"
  }
 },
 "nbformat": 4,
 "nbformat_minor": 5
}
