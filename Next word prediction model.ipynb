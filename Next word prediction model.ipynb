{
 "cells": [
  {
   "cell_type": "markdown",
   "id": "c6abd6c0",
   "metadata": {},
   "source": [
    "### Next word prediction using LSTM"
   ]
  },
  {
   "cell_type": "markdown",
   "id": "6a783b8c",
   "metadata": {},
   "source": [
    "https://thecleverprogrammer.com/2020/07/20/next-word-prediction-model/"
   ]
  },
  {
   "cell_type": "code",
   "execution_count": 1,
   "id": "2d4b9c7d",
   "metadata": {},
   "outputs": [
    {
     "data": {
      "text/plain": [
       "'2.10.1'"
      ]
     },
     "execution_count": 1,
     "metadata": {},
     "output_type": "execute_result"
    }
   ],
   "source": [
    "# Using tensorflow version 2.10.1\n",
    "import tensorflow\n",
    "tensorflow.__version__"
   ]
  },
  {
   "cell_type": "code",
   "execution_count": 79,
   "id": "c057d4a9",
   "metadata": {},
   "outputs": [],
   "source": [
    "import numpy as np\n",
    "from nltk.tokenize import RegexpTokenizer\n",
    "from keras.models import Sequential, load_model\n",
    "from keras.layers import LSTM\n",
    "from keras.layers.core import Dense, Activation, Dropout\n",
    "from keras.optimizers import Adam\n",
    "import matplotlib.pyplot as plt\n",
    "import pickle\n",
    "import heapq"
   ]
  },
  {
   "cell_type": "code",
   "execution_count": 3,
   "id": "321e6935",
   "metadata": {},
   "outputs": [
    {
     "name": "stdout",
     "output_type": "stream",
     "text": [
      "Length of the text 581888\n"
     ]
    }
   ],
   "source": [
    "# Reading the text file and checking its length\n",
    "PATH = r\"C:\\Users\\Aman\\Data science course\\Deep Learning\\1661-0.txt\"\n",
    "text = open(PATH, encoding='utf-8').read().lower()\n",
    "print(\"Length of the text\", len(text))"
   ]
  },
  {
   "cell_type": "code",
   "execution_count": 4,
   "id": "9240b4e2",
   "metadata": {},
   "outputs": [],
   "source": [
    "# Now spliting the dataset into each word in order but without the presence of some special characters.\n",
    "tokenizer = RegexpTokenizer(r'\\w+')\n",
    "words = tokenizer.tokenize(text)"
   ]
  },
  {
   "cell_type": "code",
   "execution_count": 5,
   "id": "1b39a34d",
   "metadata": {},
   "outputs": [
    {
     "data": {
      "text/plain": [
       "109226"
      ]
     },
     "execution_count": 5,
     "metadata": {},
     "output_type": "execute_result"
    }
   ],
   "source": [
    "len(words)"
   ]
  },
  {
   "cell_type": "code",
   "execution_count": 6,
   "id": "158073cb",
   "metadata": {},
   "outputs": [],
   "source": [
    "unique_words = np.unique(words)\n",
    "unique_word_index = dict((c, i) for i, c in enumerate(unique_words))"
   ]
  },
  {
   "cell_type": "code",
   "execution_count": 7,
   "id": "da5bff2f",
   "metadata": {},
   "outputs": [
    {
     "name": "stdout",
     "output_type": "stream",
     "text": [
      "['project', 'gutenberg', 's', 'the', 'adventures', 'of', 'sherlock']\n",
      "holmes\n"
     ]
    }
   ],
   "source": [
    "WORD_LENGTH = 7\n",
    "prev_words = []\n",
    "next_words = []\n",
    "for i in range(len(words) - WORD_LENGTH):\n",
    "    prev_words.append(words[i:i + WORD_LENGTH])\n",
    "    next_words.append(words[i + WORD_LENGTH])\n",
    "print(prev_words[0])\n",
    "print(next_words[0])"
   ]
  },
  {
   "cell_type": "code",
   "execution_count": 8,
   "id": "8f176a12",
   "metadata": {},
   "outputs": [],
   "source": [
    "X = np.zeros((len(prev_words), WORD_LENGTH, len(unique_words)), dtype=bool)\n",
    "Y = np.zeros((len(next_words), len(unique_words)), dtype=bool)\n",
    "for i, each_words in enumerate(prev_words):\n",
    "    for j, each_word in enumerate(each_words):\n",
    "        X[i, j, unique_word_index[each_word]] = 1\n",
    "    Y[i, unique_word_index[next_words[i]]] = 1"
   ]
  },
  {
   "cell_type": "code",
   "execution_count": null,
   "id": "f79ac8ab",
   "metadata": {},
   "outputs": [],
   "source": []
  },
  {
   "cell_type": "code",
   "execution_count": 9,
   "id": "d31cfeb2",
   "metadata": {},
   "outputs": [],
   "source": [
    "model = Sequential()\n",
    "model.add(LSTM(128, input_shape=(WORD_LENGTH, len(unique_words))))\n",
    "model.add(Dense(len(unique_words)))\n",
    "model.add(Dropout(0.2))\n",
    "model.add(Activation('softmax'))"
   ]
  },
  {
   "cell_type": "code",
   "execution_count": 10,
   "id": "95c89698",
   "metadata": {},
   "outputs": [
    {
     "name": "stdout",
     "output_type": "stream",
     "text": [
      "Epoch 1/10\n",
      "811/811 [==============================] - 96s 116ms/step - loss: 6.7392 - accuracy: 0.0834 - val_loss: 6.8649 - val_accuracy: 0.1027\n",
      "Epoch 2/10\n",
      "811/811 [==============================] - 98s 121ms/step - loss: 5.9691 - accuracy: 0.1373 - val_loss: 6.8381 - val_accuracy: 0.1135\n",
      "Epoch 3/10\n",
      "811/811 [==============================] - 99s 122ms/step - loss: 5.4543 - accuracy: 0.1794 - val_loss: 6.9070 - val_accuracy: 0.1205\n",
      "Epoch 4/10\n",
      "811/811 [==============================] - 99s 122ms/step - loss: 4.9172 - accuracy: 0.2355 - val_loss: 7.0524 - val_accuracy: 0.1152\n",
      "Epoch 5/10\n",
      "811/811 [==============================] - 99s 122ms/step - loss: 4.3722 - accuracy: 0.3104 - val_loss: 7.2309 - val_accuracy: 0.1095\n",
      "Epoch 6/10\n",
      "811/811 [==============================] - 99s 123ms/step - loss: 3.8647 - accuracy: 0.3923 - val_loss: 7.5762 - val_accuracy: 0.1097\n",
      "Epoch 7/10\n",
      "811/811 [==============================] - 100s 124ms/step - loss: 3.4082 - accuracy: 0.4741 - val_loss: 7.8852 - val_accuracy: 0.1035\n",
      "Epoch 8/10\n",
      "811/811 [==============================] - 101s 124ms/step - loss: 3.0533 - accuracy: 0.5428 - val_loss: 8.2143 - val_accuracy: 0.0983\n",
      "Epoch 9/10\n",
      "811/811 [==============================] - 101s 125ms/step - loss: 2.7883 - accuracy: 0.5923 - val_loss: 8.5182 - val_accuracy: 0.0965\n",
      "Epoch 10/10\n",
      "811/811 [==============================] - 103s 127ms/step - loss: 2.5637 - accuracy: 0.6328 - val_loss: 8.7640 - val_accuracy: 0.0954\n"
     ]
    }
   ],
   "source": [
    "optimizer = Adam(learning_rate=0.01)\n",
    "model.compile(loss='categorical_crossentropy', optimizer=optimizer, metrics=['accuracy'])\n",
    "history = model.fit(X, Y, validation_split=0.05, batch_size=128, epochs=10, shuffle=True).history"
   ]
  },
  {
   "cell_type": "code",
   "execution_count": 85,
   "id": "e5955ab5",
   "metadata": {},
   "outputs": [],
   "source": [
    "model.save('keras_next_word_model.h5')\n",
    "pickle.dump(history, open(\"history.p\", \"wb\"))\n",
    "model = load_model('keras_next_word_model.h5')\n",
    "history = pickle.load(open(\"history.p\", \"rb\"))"
   ]
  },
  {
   "cell_type": "code",
   "execution_count": 12,
   "id": "c7add4a4",
   "metadata": {},
   "outputs": [
    {
     "data": {
      "text/plain": [
       "{'loss': [6.739243507385254,\n",
       "  5.9691386222839355,\n",
       "  5.454279899597168,\n",
       "  4.91718864440918,\n",
       "  4.372166633605957,\n",
       "  3.8647282123565674,\n",
       "  3.4082462787628174,\n",
       "  3.05328631401062,\n",
       "  2.788285493850708,\n",
       "  2.563668966293335],\n",
       " 'accuracy': [0.08336706459522247,\n",
       "  0.1372906118631363,\n",
       "  0.17940784990787506,\n",
       "  0.2354709953069687,\n",
       "  0.3104049861431122,\n",
       "  0.39233601093292236,\n",
       "  0.4740550220012665,\n",
       "  0.5428208112716675,\n",
       "  0.5923206210136414,\n",
       "  0.632809042930603],\n",
       " 'val_loss': [6.864947319030762,\n",
       "  6.8380632400512695,\n",
       "  6.906960964202881,\n",
       "  7.052440166473389,\n",
       "  7.2309136390686035,\n",
       "  7.576229572296143,\n",
       "  7.885178089141846,\n",
       "  8.214330673217773,\n",
       "  8.518210411071777,\n",
       "  8.763998031616211],\n",
       " 'val_accuracy': [0.10272844135761261,\n",
       "  0.11353231966495514,\n",
       "  0.12049075216054916,\n",
       "  0.1151803731918335,\n",
       "  0.10950375348329544,\n",
       "  0.10968687385320663,\n",
       "  0.10346090793609619,\n",
       "  0.09833364188671112,\n",
       "  0.09650247544050217,\n",
       "  0.0954037755727768]}"
      ]
     },
     "execution_count": 12,
     "metadata": {},
     "output_type": "execute_result"
    }
   ],
   "source": [
    "history"
   ]
  },
  {
   "cell_type": "code",
   "execution_count": 13,
   "id": "bb83fafb",
   "metadata": {},
   "outputs": [
    {
     "data": {
      "text/plain": [
       "<matplotlib.legend.Legend at 0x1a18916e850>"
      ]
     },
     "execution_count": 13,
     "metadata": {},
     "output_type": "execute_result"
    },
    {
     "data": {
      "image/png": "[encoded data removed]",
      "text/plain": [
       "<Figure size 432x288 with 1 Axes>"
      ]
     },
     "metadata": {
      "needs_background": "light"
     },
     "output_type": "display_data"
    }
   ],
   "source": [
    "plt.plot(history['accuracy'])\n",
    "plt.plot(history['val_accuracy'])\n",
    "plt.title('model accuracy')\n",
    "plt.ylabel('accuracy')\n",
    "plt.xlabel('epoch')\n",
    "plt.legend(['train', 'test'], loc='upper left')"
   ]
  },
  {
   "cell_type": "code",
   "execution_count": 14,
   "id": "0d69effe",
   "metadata": {},
   "outputs": [
    {
     "data": {
      "text/plain": [
       "<matplotlib.legend.Legend at 0x1a1891e6a30>"
      ]
     },
     "execution_count": 14,
     "metadata": {},
     "output_type": "execute_result"
    },
    {
     "data": {
      "image/png": "[encoded data removed]",
      "text/plain": [
       "<Figure size 432x288 with 1 Axes>"
      ]
     },
     "metadata": {
      "needs_background": "light"
     },
     "output_type": "display_data"
    }
   ],
   "source": [
    "plt.plot(history['loss'])\n",
    "plt.plot(history['val_loss'])\n",
    "plt.title('model loss')\n",
    "plt.ylabel('loss')\n",
    "plt.xlabel('epoch')\n",
    "plt.legend(['train', 'test'], loc='upper left')"
   ]
  },
  {
   "cell_type": "code",
   "execution_count": 15,
   "id": "785b3718",
   "metadata": {},
   "outputs": [],
   "source": [
    "x = np.zeros((1, WORD_LENGTH, len(unique_words)))\n",
    "x[0,4,unique_word_index[\"lack\"]] = 1"
   ]
  },
  {
   "cell_type": "code",
   "execution_count": 16,
   "id": "ee34fc96",
   "metadata": {},
   "outputs": [
    {
     "data": {
      "text/plain": [
       "7"
      ]
     },
     "execution_count": 16,
     "metadata": {},
     "output_type": "execute_result"
    }
   ],
   "source": [
    "WORD_LENGTH"
   ]
  },
  {
   "cell_type": "code",
   "execution_count": 17,
   "id": "a1aa3466",
   "metadata": {},
   "outputs": [
    {
     "data": {
      "text/plain": [
       "8201"
      ]
     },
     "execution_count": 17,
     "metadata": {},
     "output_type": "execute_result"
    }
   ],
   "source": [
    "len(unique_words)"
   ]
  },
  {
   "cell_type": "code",
   "execution_count": 96,
   "id": "ee971bdf",
   "metadata": {},
   "outputs": [],
   "source": [
    "x = np.zeros((1, 10, 8201))"
   ]
  },
  {
   "cell_type": "code",
   "execution_count": 97,
   "id": "0a42b21c",
   "metadata": {},
   "outputs": [
    {
     "data": {
      "text/plain": [
       "array([[[0., 0., 0., ..., 0., 0., 0.],\n",
       "        [0., 0., 0., ..., 0., 0., 0.],\n",
       "        [0., 0., 0., ..., 0., 0., 0.],\n",
       "        ...,\n",
       "        [0., 0., 0., ..., 0., 0., 0.],\n",
       "        [0., 0., 0., ..., 0., 0., 0.],\n",
       "        [0., 0., 0., ..., 0., 0., 0.]]])"
      ]
     },
     "execution_count": 97,
     "metadata": {},
     "output_type": "execute_result"
    }
   ],
   "source": [
    "x"
   ]
  },
  {
   "cell_type": "code",
   "execution_count": 86,
   "id": "432ff09c",
   "metadata": {},
   "outputs": [
    {
     "data": {
      "text/plain": [
       "(1, 6, 8201)"
      ]
     },
     "execution_count": 86,
     "metadata": {},
     "output_type": "execute_result"
    }
   ],
   "source": [
    "x.shape"
   ]
  },
  {
   "cell_type": "code",
   "execution_count": 87,
   "id": "3c59971e",
   "metadata": {},
   "outputs": [
    {
     "data": {
      "text/plain": [
       "[4012, 4003, 4894, 141, 4148, 4972, 4408]"
      ]
     },
     "execution_count": 87,
     "metadata": {},
     "output_type": "execute_result"
    }
   ],
   "source": [
    "mylist"
   ]
  },
  {
   "cell_type": "code",
   "execution_count": 88,
   "id": "0c1c0a31",
   "metadata": {},
   "outputs": [],
   "source": [
    "x[0, 0, 4012] = 1"
   ]
  },
  {
   "cell_type": "code",
   "execution_count": 89,
   "id": "d426728d",
   "metadata": {},
   "outputs": [
    {
     "data": {
      "text/plain": [
       "1.0"
      ]
     },
     "execution_count": 89,
     "metadata": {},
     "output_type": "execute_result"
    }
   ],
   "source": [
    "x[0, 0, 4012]"
   ]
  },
  {
   "cell_type": "code",
   "execution_count": 90,
   "id": "43981729",
   "metadata": {},
   "outputs": [],
   "source": [
    "x[0, 1, 4003] = 1"
   ]
  },
  {
   "cell_type": "code",
   "execution_count": 92,
   "id": "9e129b57",
   "metadata": {},
   "outputs": [],
   "source": [
    "x[0, 2, 4894]=1"
   ]
  },
  {
   "cell_type": "code",
   "execution_count": 93,
   "id": "e19ac7e6",
   "metadata": {},
   "outputs": [],
   "source": [
    "x[0, 5, 4972]=1"
   ]
  },
  {
   "cell_type": "code",
   "execution_count": 95,
   "id": "c14a5803",
   "metadata": {},
   "outputs": [
    {
     "data": {
      "text/plain": [
       "(1, 6, 8201)"
      ]
     },
     "execution_count": 95,
     "metadata": {},
     "output_type": "execute_result"
    }
   ],
   "source": [
    "x.shape"
   ]
  },
  {
   "cell_type": "code",
   "execution_count": 98,
   "id": "9dd67234",
   "metadata": {},
   "outputs": [],
   "source": [
    "x[0, 6, 4408]=1"
   ]
  },
  {
   "cell_type": "code",
   "execution_count": 62,
   "id": "cd4ddaa1",
   "metadata": {},
   "outputs": [
    {
     "name": "stdout",
     "output_type": "stream",
     "text": [
      "0 it\n",
      "1 is\n",
      "2 not\n",
      "3 a\n",
      "4 lack\n",
      "5 of\n",
      "6 love\n",
      "7 but\n",
      "8 a\n",
      "9 lack\n",
      "10 of\n",
      "11 f\n"
     ]
    }
   ],
   "source": [
    "words=seq.split()\n",
    "for t, word in enumerate(words):\n",
    "        print(t,word)"
   ]
  },
  {
   "cell_type": "code",
   "execution_count": 22,
   "id": "53654abb",
   "metadata": {},
   "outputs": [
    {
     "data": {
      "text/plain": [
       "4012"
      ]
     },
     "execution_count": 22,
     "metadata": {},
     "output_type": "execute_result"
    }
   ],
   "source": [
    "unique_word_index[\"it\"]"
   ]
  },
  {
   "cell_type": "code",
   "execution_count": 72,
   "id": "0f160866",
   "metadata": {},
   "outputs": [
    {
     "name": "stdout",
     "output_type": "stream",
     "text": [
      "0 it\n",
      "1 is\n",
      "2 not\n",
      "3 a\n",
      "4 lack\n",
      "5 of\n",
      "6 love\n"
     ]
    },
    {
     "ename": "IndexError",
     "evalue": "index 6 is out of bounds for axis 1 with size 6",
     "output_type": "error",
     "traceback": [
      "\u001b[1;31m---------------------------------------------------------------------------\u001b[0m",
      "\u001b[1;31mIndexError\u001b[0m                                Traceback (most recent call last)",
      "Input \u001b[1;32mIn [72]\u001b[0m, in \u001b[0;36m<cell line: 2>\u001b[1;34m()\u001b[0m\n\u001b[0;32m      3\u001b[0m \u001b[38;5;28mprint\u001b[39m(t, word)\n\u001b[0;32m      4\u001b[0m mylist\u001b[38;5;241m.\u001b[39mappend(unique_word_index[word])\n\u001b[1;32m----> 5\u001b[0m x[\u001b[38;5;241m0\u001b[39m, t, unique_word_index[word]] \u001b[38;5;241m=\u001b[39m \u001b[38;5;241m1\u001b[39m\n",
      "\u001b[1;31mIndexError\u001b[0m: index 6 is out of bounds for axis 1 with size 6"
     ]
    }
   ],
   "source": [
    "mylist=[]\n",
    "for t, word in enumerate(words):\n",
    "    print(t, word)\n",
    "    mylist.append(unique_word_index[word])\n",
    "    x[0, t, unique_word_index[word]] = 1"
   ]
  },
  {
   "cell_type": "code",
   "execution_count": 73,
   "id": "5bc94ead",
   "metadata": {},
   "outputs": [
    {
     "data": {
      "text/plain": [
       "(1, 6, 8201)"
      ]
     },
     "execution_count": 73,
     "metadata": {},
     "output_type": "execute_result"
    }
   ],
   "source": [
    "x.shape"
   ]
  },
  {
   "cell_type": "code",
   "execution_count": 74,
   "id": "06db7340",
   "metadata": {},
   "outputs": [
    {
     "data": {
      "text/plain": [
       "[4012, 4003, 4894, 141, 4148, 4972, 4408]"
      ]
     },
     "execution_count": 74,
     "metadata": {},
     "output_type": "execute_result"
    }
   ],
   "source": [
    "mylist"
   ]
  },
  {
   "cell_type": "code",
   "execution_count": 75,
   "id": "ab4666ed",
   "metadata": {},
   "outputs": [
    {
     "data": {
      "text/plain": [
       "1.0"
      ]
     },
     "execution_count": 75,
     "metadata": {},
     "output_type": "execute_result"
    }
   ],
   "source": [
    "x[0,0,4012]"
   ]
  },
  {
   "cell_type": "code",
   "execution_count": 76,
   "id": "f5031631",
   "metadata": {},
   "outputs": [
    {
     "ename": "IndexError",
     "evalue": "index 7 is out of bounds for axis 1 with size 6",
     "output_type": "error",
     "traceback": [
      "\u001b[1;31m---------------------------------------------------------------------------\u001b[0m",
      "\u001b[1;31mIndexError\u001b[0m                                Traceback (most recent call last)",
      "Input \u001b[1;32mIn [76]\u001b[0m, in \u001b[0;36m<cell line: 1>\u001b[1;34m()\u001b[0m\n\u001b[1;32m----> 1\u001b[0m \u001b[43mx\u001b[49m\u001b[43m[\u001b[49m\u001b[38;5;241;43m0\u001b[39;49m\u001b[43m,\u001b[49m\u001b[38;5;241;43m7\u001b[39;49m\u001b[43m,\u001b[49m\u001b[38;5;241;43m5014\u001b[39;49m\u001b[43m]\u001b[49m\n",
      "\u001b[1;31mIndexError\u001b[0m: index 7 is out of bounds for axis 1 with size 6"
     ]
    }
   ],
   "source": [
    "x[0,7,5014]"
   ]
  },
  {
   "cell_type": "code",
   "execution_count": 77,
   "id": "5a1d6380",
   "metadata": {},
   "outputs": [
    {
     "data": {
      "text/plain": [
       "[4012, 4003, 4894, 141, 4148, 4972, 4408]"
      ]
     },
     "execution_count": 77,
     "metadata": {},
     "output_type": "execute_result"
    }
   ],
   "source": [
    "mylist"
   ]
  },
  {
   "cell_type": "code",
   "execution_count": 78,
   "id": "e5413aeb",
   "metadata": {},
   "outputs": [
    {
     "name": "stdout",
     "output_type": "stream",
     "text": [
      "0 it\n",
      "1 is\n",
      "2 not\n",
      "3 a\n",
      "4 lack\n"
     ]
    },
    {
     "data": {
      "text/plain": [
       "array([[[0., 0., 0., ..., 0., 0., 0.],\n",
       "        [0., 0., 0., ..., 0., 0., 0.],\n",
       "        [0., 0., 0., ..., 0., 0., 0.],\n",
       "        ...,\n",
       "        [0., 0., 0., ..., 0., 0., 0.],\n",
       "        [0., 0., 0., ..., 0., 0., 0.],\n",
       "        [0., 0., 0., ..., 0., 0., 0.]]])"
      ]
     },
     "execution_count": 78,
     "metadata": {},
     "output_type": "execute_result"
    }
   ],
   "source": [
    "def prepare_input(text):\n",
    "    x = np.zeros((1, WORD_LENGTH, len(unique_words)))\n",
    "    words=text.split()\n",
    "    for t, word in enumerate(words):\n",
    "        print(t, word)\n",
    "        x[0, t, unique_word_index[word]] = 1\n",
    "        \n",
    "    return x\n",
    "prepare_input(\"It is not a lack\".lower())"
   ]
  },
  {
   "cell_type": "code",
   "execution_count": 54,
   "id": "51da8680",
   "metadata": {},
   "outputs": [],
   "source": [
    "def sample(preds, top_n=3):\n",
    "    preds = np.asarray(preds).astype('float64')\n",
    "    preds = np.log(preds)\n",
    "    exp_preds = np.exp(preds)\n",
    "    preds = exp_preds / np.sum(exp_preds)\n",
    "\n",
    "    return heapq.nlargest(top_n, range(len(preds)), preds.take)"
   ]
  },
  {
   "cell_type": "code",
   "execution_count": 55,
   "id": "aae67a56",
   "metadata": {},
   "outputs": [],
   "source": [
    "def predict_completion(text):\n",
    "    original_text = text\n",
    "    generated = text\n",
    "    completion = ''\n",
    "    while True:\n",
    "        x = prepare_input(text)\n",
    "        preds = model.predict(x, verbose=0)[0]\n",
    "        next_index = sample(preds, top_n=1)[0]\n",
    "        next_char = indices_char[next_index]\n",
    "        text = text[1:] + next_char\n",
    "        completion += next_char\n",
    "        \n",
    "        if len(original_text + completion) + 2 > len(original_text) and next_char == ' ':\n",
    "            return completion"
   ]
  },
  {
   "cell_type": "code",
   "execution_count": 56,
   "id": "51cee1a7",
   "metadata": {},
   "outputs": [
    {
     "name": "stdout",
     "output_type": "stream",
     "text": [
      "0 it\n",
      "1 is\n",
      "2 not\n",
      "3 a\n",
      "4 lack\n",
      "5 of\n",
      "6 love\n",
      "7 but\n"
     ]
    },
    {
     "ename": "IndexError",
     "evalue": "index 7 is out of bounds for axis 1 with size 7",
     "output_type": "error",
     "traceback": [
      "\u001b[1;31m---------------------------------------------------------------------------\u001b[0m",
      "\u001b[1;31mIndexError\u001b[0m                                Traceback (most recent call last)",
      "Input \u001b[1;32mIn [56]\u001b[0m, in \u001b[0;36m<cell line: 1>\u001b[1;34m()\u001b[0m\n\u001b[1;32m----> 1\u001b[0m \u001b[43mpredict_completion\u001b[49m\u001b[43m(\u001b[49m\u001b[43mseq\u001b[49m\u001b[43m)\u001b[49m\n",
      "Input \u001b[1;32mIn [55]\u001b[0m, in \u001b[0;36mpredict_completion\u001b[1;34m(text)\u001b[0m\n\u001b[0;32m      4\u001b[0m completion \u001b[38;5;241m=\u001b[39m \u001b[38;5;124m'\u001b[39m\u001b[38;5;124m'\u001b[39m\n\u001b[0;32m      5\u001b[0m \u001b[38;5;28;01mwhile\u001b[39;00m \u001b[38;5;28;01mTrue\u001b[39;00m:\n\u001b[1;32m----> 6\u001b[0m     x \u001b[38;5;241m=\u001b[39m \u001b[43mprepare_input\u001b[49m\u001b[43m(\u001b[49m\u001b[43mtext\u001b[49m\u001b[43m)\u001b[49m\n\u001b[0;32m      7\u001b[0m     preds \u001b[38;5;241m=\u001b[39m model\u001b[38;5;241m.\u001b[39mpredict(x, verbose\u001b[38;5;241m=\u001b[39m\u001b[38;5;241m0\u001b[39m)[\u001b[38;5;241m0\u001b[39m]\n\u001b[0;32m      8\u001b[0m     next_index \u001b[38;5;241m=\u001b[39m sample(preds, top_n\u001b[38;5;241m=\u001b[39m\u001b[38;5;241m1\u001b[39m)[\u001b[38;5;241m0\u001b[39m]\n",
      "Input \u001b[1;32mIn [53]\u001b[0m, in \u001b[0;36mprepare_input\u001b[1;34m(text)\u001b[0m\n\u001b[0;32m      4\u001b[0m \u001b[38;5;28;01mfor\u001b[39;00m t, word \u001b[38;5;129;01min\u001b[39;00m \u001b[38;5;28menumerate\u001b[39m(words):\n\u001b[0;32m      5\u001b[0m     \u001b[38;5;28mprint\u001b[39m(t, word)\n\u001b[1;32m----> 6\u001b[0m     x[\u001b[38;5;241m0\u001b[39m, t, unique_word_index[word]] \u001b[38;5;241m=\u001b[39m \u001b[38;5;241m1\u001b[39m\n\u001b[0;32m      8\u001b[0m \u001b[38;5;28;01mreturn\u001b[39;00m x\n",
      "\u001b[1;31mIndexError\u001b[0m: index 7 is out of bounds for axis 1 with size 7"
     ]
    }
   ],
   "source": [
    "predict_completion(seq)"
   ]
  },
  {
   "cell_type": "code",
   "execution_count": 57,
   "id": "b0297499",
   "metadata": {},
   "outputs": [
    {
     "data": {
      "text/plain": [
       "'it is not a lack of love but a lack of f'"
      ]
     },
     "execution_count": 57,
     "metadata": {},
     "output_type": "execute_result"
    }
   ],
   "source": [
    "seq"
   ]
  },
  {
   "cell_type": "code",
   "execution_count": 58,
   "id": "d515ae4c",
   "metadata": {},
   "outputs": [],
   "source": [
    "quotes = [\n",
    "    \"It is not a lack of love but a lack of friendship that makes unhappy marriages.\",\n",
    "    \"That which does not kill us makes us stronger.\",\n",
    "    \"I'm not upset that you lied to me, I'm upset that from now on I can't believe you.\",\n",
    "    \"And those who were seen dancing were thought to be insane by those who could not hear the music.\",\n",
    "    \"It is hard enough to remember my opinions, without also remembering my reasons for them!\"\n",
    "]"
   ]
  },
  {
   "cell_type": "code",
   "execution_count": 59,
   "id": "95f31dcf",
   "metadata": {},
   "outputs": [],
   "source": [
    "for q in quotes:\n",
    "    seq = q[:30].lower()"
   ]
  },
  {
   "cell_type": "code",
   "execution_count": 60,
   "id": "7a1198a8",
   "metadata": {},
   "outputs": [
    {
     "data": {
      "text/plain": [
       "'it is hard enough to remember '"
      ]
     },
     "execution_count": 60,
     "metadata": {},
     "output_type": "execute_result"
    }
   ],
   "source": [
    "seq"
   ]
  },
  {
   "cell_type": "code",
   "execution_count": 61,
   "id": "38c7f274",
   "metadata": {},
   "outputs": [
    {
     "name": "stdout",
     "output_type": "stream",
     "text": [
      "it is not a lack of love but a lack of f\n"
     ]
    },
    {
     "ename": "TypeError",
     "evalue": "predict_completion() takes 1 positional argument but 2 were given",
     "output_type": "error",
     "traceback": [
      "\u001b[1;31m---------------------------------------------------------------------------\u001b[0m",
      "\u001b[1;31mTypeError\u001b[0m                                 Traceback (most recent call last)",
      "Input \u001b[1;32mIn [61]\u001b[0m, in \u001b[0;36m<cell line: 1>\u001b[1;34m()\u001b[0m\n\u001b[0;32m      2\u001b[0m seq \u001b[38;5;241m=\u001b[39m q[:\u001b[38;5;241m40\u001b[39m]\u001b[38;5;241m.\u001b[39mlower()\n\u001b[0;32m      3\u001b[0m \u001b[38;5;28mprint\u001b[39m(seq)\n\u001b[1;32m----> 4\u001b[0m \u001b[38;5;28mprint\u001b[39m(\u001b[43mpredict_completion\u001b[49m\u001b[43m(\u001b[49m\u001b[43mseq\u001b[49m\u001b[43m,\u001b[49m\u001b[43m \u001b[49m\u001b[38;5;241;43m5\u001b[39;49m\u001b[43m)\u001b[49m)\n\u001b[0;32m      5\u001b[0m \u001b[38;5;28mprint\u001b[39m()\n",
      "\u001b[1;31mTypeError\u001b[0m: predict_completion() takes 1 positional argument but 2 were given"
     ]
    }
   ],
   "source": [
    "for q in quotes:\n",
    "    seq = q[:40].lower()\n",
    "    print(seq)\n",
    "    print(predict_completion(seq, 5))\n",
    "    print()"
   ]
  },
  {
   "cell_type": "code",
   "execution_count": 80,
   "id": "bc4e466e",
   "metadata": {},
   "outputs": [
    {
     "name": "stdout",
     "output_type": "stream",
     "text": [
      "[name: \"/device:CPU:0\"\n",
      "device_type: \"CPU\"\n",
      "memory_limit: 268435456\n",
      "locality {\n",
      "}\n",
      "incarnation: 6492483936972316038\n",
      "xla_global_id: -1\n",
      "]\n"
     ]
    }
   ],
   "source": [
    "    from tensorflow.python.client import device_lib\n",
    "    print(device_lib.list_local_devices())"
   ]
  },
  {
   "cell_type": "code",
   "execution_count": 84,
   "id": "bf795c29",
   "metadata": {},
   "outputs": [
    {
     "name": "stdout",
     "output_type": "stream",
     "text": [
      "Sun Jan 15 18:34:39 2023       \n",
      "+-----------------------------------------------------------------------------+\n",
      "| NVIDIA-SMI 512.78       Driver Version: 512.78       CUDA Version: 11.6     |\n",
      "|-------------------------------+----------------------+----------------------+\n",
      "| GPU  Name            TCC/WDDM | Bus-Id        Disp.A | Volatile Uncorr. ECC |\n",
      "| Fan  Temp  Perf  Pwr:Usage/Cap|         Memory-Usage | GPU-Util  Compute M. |\n",
      "|                               |                      |               MIG M. |\n",
      "|===============================+======================+======================|\n",
      "|   0  NVIDIA GeForce ... WDDM  | 00000000:01:00.0 Off |                  N/A |\n",
      "| N/A   43C    P8     1W /  N/A |     44MiB /  4096MiB |      0%      Default |\n",
      "|                               |                      |                  N/A |\n",
      "+-------------------------------+----------------------+----------------------+\n",
      "                                                                               \n",
      "+-----------------------------------------------------------------------------+\n",
      "| Processes:                                                                  |\n",
      "|  GPU   GI   CI        PID   Type   Process name                  GPU Memory |\n",
      "|        ID   ID                                                   Usage      |\n",
      "|=============================================================================|\n",
      "|    0   N/A  N/A     14912      C   ...Aman\\anaconda3\\python.exe    N/A      |\n",
      "+-----------------------------------------------------------------------------+\n"
     ]
    }
   ],
   "source": [
    "!NVIDIA-SMI"
   ]
  },
  {
   "cell_type": "code",
   "execution_count": null,
   "id": "f6592d4f",
   "metadata": {},
   "outputs": [],
   "source": []
  }
 ],
 "metadata": {
  "kernelspec": {
   "display_name": "Python 3 (ipykernel)",
   "language": "python",
   "name": "python3"
  },
  "language_info": {
   "codemirror_mode": {
    "name": "ipython",
    "version": 3
   },
   "file_extension": ".py",
   "mimetype": "text/x-python",
   "name": "python",
   "nbconvert_exporter": "python",
   "pygments_lexer": "ipython3",
   "version": "3.9.12"
  }
 },
 "nbformat": 4,
 "nbformat_minor": 5
}
